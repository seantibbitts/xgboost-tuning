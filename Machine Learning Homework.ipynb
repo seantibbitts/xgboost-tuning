{
 "cells": [
  {
   "cell_type": "code",
   "execution_count": 273,
   "metadata": {},
   "outputs": [],
   "source": [
    "import numpy as np\n",
    "import numpy.random as npr\n",
    "import matplotlib.pyplot as plt\n",
    "import matplotlib.font_manager as fm\n",
    "from mpl_toolkits.mplot3d import Axes3D\n",
    "import pandas as pd\n",
    "from jax import grad\n",
    "import shap\n",
    "from xgboost import XGBRegressor\n",
    "import xgboost as xgb\n",
    "# TitleProp = fm.FontProperties(fname='/Users/skazi/ML/Fonts/RobotoCondensed-Bold.ttf', size=30)"
   ]
  },
  {
   "cell_type": "markdown",
   "metadata": {},
   "source": [
    "# Implementing an XGBoost regression model"
   ]
  },
  {
   "cell_type": "markdown",
   "metadata": {},
   "source": [
    "Tuned model using Bayesian Optimization, GridSearchCV and brute force iteration."
   ]
  },
  {
   "cell_type": "markdown",
   "metadata": {},
   "source": [
    "### Read in data"
   ]
  },
  {
   "cell_type": "code",
   "execution_count": 125,
   "metadata": {},
   "outputs": [],
   "source": [
    "df = pd.read_csv('/Users/seantibbitts/Downloads/Dataframe519.csv', sep='|')"
   ]
  },
  {
   "cell_type": "code",
   "execution_count": 127,
   "metadata": {},
   "outputs": [],
   "source": [
    "# Drop previous index column\n",
    "df2 = df.drop('Unnamed: 0', axis = 1)"
   ]
  },
  {
   "cell_type": "code",
   "execution_count": 129,
   "metadata": {},
   "outputs": [
    {
     "data": {
      "text/html": [
       "<div>\n",
       "<style scoped>\n",
       "    .dataframe tbody tr th:only-of-type {\n",
       "        vertical-align: middle;\n",
       "    }\n",
       "\n",
       "    .dataframe tbody tr th {\n",
       "        vertical-align: top;\n",
       "    }\n",
       "\n",
       "    .dataframe thead th {\n",
       "        text-align: right;\n",
       "    }\n",
       "</style>\n",
       "<table border=\"1\" class=\"dataframe\">\n",
       "  <thead>\n",
       "    <tr style=\"text-align: right;\">\n",
       "      <th></th>\n",
       "      <th>YearMakeModel</th>\n",
       "      <th>Price</th>\n",
       "      <th>Mileage</th>\n",
       "      <th>Num_reviews</th>\n",
       "      <th>location</th>\n",
       "      <th>features</th>\n",
       "      <th>specs</th>\n",
       "      <th>stars</th>\n",
       "    </tr>\n",
       "  </thead>\n",
       "  <tbody>\n",
       "    <tr>\n",
       "      <th>0</th>\n",
       "      <td>2009 Hyundai Accent GS</td>\n",
       "      <td>5,599</td>\n",
       "      <td>87K</td>\n",
       "      <td>38</td>\n",
       "      <td>Salt Lake City, UT</td>\n",
       "      <td>Rear Spoiler, Overhead Airbags, Side Airbags, ...</td>\n",
       "      <td>4 Cylinders, 2WD, 1.6L Engine, Manual 5 Speed ...</td>\n",
       "      <td>4.5</td>\n",
       "    </tr>\n",
       "    <tr>\n",
       "      <th>1</th>\n",
       "      <td>2006 Saturn Ion 2</td>\n",
       "      <td>5,599</td>\n",
       "      <td>127K</td>\n",
       "      <td>28</td>\n",
       "      <td>Los Angeles, CA</td>\n",
       "      <td>Cruise Control, Auxiliary Audio Input, Rear Sp...</td>\n",
       "      <td>4 Cylinders, 2WD, 2.2L Engine, Manual 5 Speed ...</td>\n",
       "      <td>4.0</td>\n",
       "    </tr>\n",
       "    <tr>\n",
       "      <th>2</th>\n",
       "      <td>2008 Smart Fortwo Pure</td>\n",
       "      <td>5,599</td>\n",
       "      <td>86K</td>\n",
       "      <td>46</td>\n",
       "      <td>Los Angeles, CA</td>\n",
       "      <td>Traction Control, Side Airbags, ABS Brakes, Po...</td>\n",
       "      <td>3 Cylinders, 2WD, 1.0L Engine, Automatic Trans...</td>\n",
       "      <td>4.0</td>\n",
       "    </tr>\n",
       "    <tr>\n",
       "      <th>3</th>\n",
       "      <td>2010 Hyundai Accent Blue</td>\n",
       "      <td>5,899</td>\n",
       "      <td>114K</td>\n",
       "      <td>37</td>\n",
       "      <td>Salisbury, MD</td>\n",
       "      <td>Auxiliary Audio Input, Overhead Airbags, Side ...</td>\n",
       "      <td>4 Cylinders, 2WD, 1.6L Engine, Manual 5 Speed ...</td>\n",
       "      <td>4.5</td>\n",
       "    </tr>\n",
       "    <tr>\n",
       "      <th>4</th>\n",
       "      <td>2006 Chevrolet Aveo LS</td>\n",
       "      <td>5,998</td>\n",
       "      <td>73K</td>\n",
       "      <td>12</td>\n",
       "      <td>San Diego, CA</td>\n",
       "      <td>AM/FM Stereo, Rear Defroster, Cloth Seats, Man...</td>\n",
       "      <td>4 Cylinders, 2WD, 1.6L Engine, Manual 5 Speed ...</td>\n",
       "      <td>4.5</td>\n",
       "    </tr>\n",
       "  </tbody>\n",
       "</table>\n",
       "</div>"
      ],
      "text/plain": [
       "              YearMakeModel  Price Mileage  Num_reviews            location  \\\n",
       "0    2009 Hyundai Accent GS  5,599     87K           38  Salt Lake City, UT   \n",
       "1         2006 Saturn Ion 2  5,599    127K           28     Los Angeles, CA   \n",
       "2    2008 Smart Fortwo Pure  5,599     86K           46     Los Angeles, CA   \n",
       "3  2010 Hyundai Accent Blue  5,899    114K           37       Salisbury, MD   \n",
       "4    2006 Chevrolet Aveo LS  5,998     73K           12       San Diego, CA   \n",
       "\n",
       "                                            features  \\\n",
       "0  Rear Spoiler, Overhead Airbags, Side Airbags, ...   \n",
       "1  Cruise Control, Auxiliary Audio Input, Rear Sp...   \n",
       "2  Traction Control, Side Airbags, ABS Brakes, Po...   \n",
       "3  Auxiliary Audio Input, Overhead Airbags, Side ...   \n",
       "4  AM/FM Stereo, Rear Defroster, Cloth Seats, Man...   \n",
       "\n",
       "                                               specs  stars  \n",
       "0  4 Cylinders, 2WD, 1.6L Engine, Manual 5 Speed ...    4.5  \n",
       "1  4 Cylinders, 2WD, 2.2L Engine, Manual 5 Speed ...    4.0  \n",
       "2  3 Cylinders, 2WD, 1.0L Engine, Automatic Trans...    4.0  \n",
       "3  4 Cylinders, 2WD, 1.6L Engine, Manual 5 Speed ...    4.5  \n",
       "4  4 Cylinders, 2WD, 1.6L Engine, Manual 5 Speed ...    4.5  "
      ]
     },
     "execution_count": 129,
     "metadata": {},
     "output_type": "execute_result"
    }
   ],
   "source": [
    "df2.head()"
   ]
  },
  {
   "cell_type": "markdown",
   "metadata": {},
   "source": [
    "### Clean data"
   ]
  },
  {
   "cell_type": "code",
   "execution_count": 131,
   "metadata": {},
   "outputs": [],
   "source": [
    "# 'Price' column is a string with comma separated thousands place\n",
    "df2['price'] = pd.to_numeric(df2['Price'].str.replace(',',''))"
   ]
  },
  {
   "cell_type": "code",
   "execution_count": 138,
   "metadata": {},
   "outputs": [],
   "source": [
    "# 'Mileage' is a string with a 'K' appended (should probably multiply by 1,000) and in at least one instance, ='New'\n",
    "df2['mileage'] = pd.to_numeric(df2['Mileage'].str.replace('K','').str.replace('New','0'))"
   ]
  },
  {
   "cell_type": "code",
   "execution_count": 171,
   "metadata": {},
   "outputs": [],
   "source": [
    "# Extract number of cylinders from specs where 'Cylinders' occurs preceded by a number\n",
    "df2['cylinders'] = pd.to_numeric(df2['specs'].str.extract(r'(\\d) ?Cylinders')[0])"
   ]
  },
  {
   "cell_type": "code",
   "execution_count": 172,
   "metadata": {},
   "outputs": [],
   "source": [
    "# Extract drive where 'WD' occurs preceded by a number\n",
    "df2['drive'] = pd.to_numeric(df2['specs'].str.extract(r'(\\d)WD')[0])"
   ]
  },
  {
   "cell_type": "code",
   "execution_count": 175,
   "metadata": {},
   "outputs": [],
   "source": [
    "# Extract liters of engine where 'L Engine' occurs preceded by a number (possibly decimal)\n",
    "df2['engine'] = pd.to_numeric(df2['specs'].str.extract(r'(\\d?\\.?\\d)L Engine')[0])"
   ]
  },
  {
   "cell_type": "code",
   "execution_count": 182,
   "metadata": {},
   "outputs": [],
   "source": [
    "# Set 'transmission' to 'Manual' if 'Manual' occurs; to 'Automatic' if 'Automatic' occurs; else None\n",
    "df2['transmission'] = df2['specs'].map(lambda x: 'Manual' if 'Manual' in str(x)\n",
    "                                       else 'Automatic' if 'Automatic' in str(x) else None)"
   ]
  },
  {
   "cell_type": "code",
   "execution_count": 197,
   "metadata": {},
   "outputs": [],
   "source": [
    "# Extract primary and secondary colors from specs where two words occur separated by a slash\n",
    "df3 = pd.concat([df2,df2['specs'].str.extract(r'\\b(\\w+)/(\\w+)\\b')\n",
    "                 .rename(columns={0:'prim_color',1:'sec_color'})], axis = 1)"
   ]
  },
  {
   "cell_type": "code",
   "execution_count": 209,
   "metadata": {},
   "outputs": [],
   "source": [
    "# Join all features together in long comma-separated list then split on commas\n",
    "# and turn into set to get unique elements\n",
    "features = set([x.strip() for x in ','.join([str(x) for x in df3['features'].values if pd.notnull(x)]).split(',')])"
   ]
  },
  {
   "cell_type": "code",
   "execution_count": 211,
   "metadata": {},
   "outputs": [],
   "source": [
    "# One-hot encode features\n",
    "for feature in features:\n",
    "    df3[feature] = df3['features'].map(lambda x: 1 if feature in str(x) else 0)"
   ]
  },
  {
   "cell_type": "code",
   "execution_count": 220,
   "metadata": {},
   "outputs": [],
   "source": [
    "# Extract year\n",
    "df3['year'] = pd.to_numeric(df3['YearMakeModel'].str.extract(r'\\b(\\d+)')[0])"
   ]
  },
  {
   "cell_type": "code",
   "execution_count": 227,
   "metadata": {},
   "outputs": [],
   "source": [
    "# Extract make\n",
    "df3['make'] = df3['YearMakeModel'].str.extract(r'\\b\\d+ (\\w+-?\\w*) ')[0]"
   ]
  },
  {
   "cell_type": "code",
   "execution_count": 262,
   "metadata": {},
   "outputs": [],
   "source": [
    "# Extract model\n",
    "df3['model'] = df3['YearMakeModel'].str.extract(r'\\b\\d+ \\w+-?w* (.+)')[0]"
   ]
  },
  {
   "cell_type": "code",
   "execution_count": 263,
   "metadata": {},
   "outputs": [],
   "source": [
    "# Extract state\n",
    "df3['state'] = df3['location'].str.extract(r', ([A-Z]{2})\\b')[0]"
   ]
  },
  {
   "cell_type": "code",
   "execution_count": 264,
   "metadata": {},
   "outputs": [],
   "source": [
    "# Extract city\n",
    "df3['city'] = df3['location'].str.extract(r'([a-zA-Z ]+),')[0]"
   ]
  },
  {
   "cell_type": "code",
   "execution_count": 265,
   "metadata": {},
   "outputs": [],
   "source": [
    "# Drop unused columns\n",
    "X_1 = df3.drop(['YearMakeModel','Price','Mileage','location','features','specs','price'], axis = 1).copy()"
   ]
  },
  {
   "cell_type": "code",
   "execution_count": 266,
   "metadata": {},
   "outputs": [
    {
     "data": {
      "text/html": [
       "<div>\n",
       "<style scoped>\n",
       "    .dataframe tbody tr th:only-of-type {\n",
       "        vertical-align: middle;\n",
       "    }\n",
       "\n",
       "    .dataframe tbody tr th {\n",
       "        vertical-align: top;\n",
       "    }\n",
       "\n",
       "    .dataframe thead th {\n",
       "        text-align: right;\n",
       "    }\n",
       "</style>\n",
       "<table border=\"1\" class=\"dataframe\">\n",
       "  <thead>\n",
       "    <tr style=\"text-align: right;\">\n",
       "      <th></th>\n",
       "      <th>Num_reviews</th>\n",
       "      <th>stars</th>\n",
       "      <th>mileage</th>\n",
       "      <th>cylinders</th>\n",
       "      <th>drive</th>\n",
       "      <th>engine</th>\n",
       "      <th>transmission</th>\n",
       "      <th>prim_color</th>\n",
       "      <th>sec_color</th>\n",
       "      <th>Auxiliary Audio Input</th>\n",
       "      <th>...</th>\n",
       "      <th>Anniversary Edition</th>\n",
       "      <th>Leather Seats</th>\n",
       "      <th>No A/C</th>\n",
       "      <th>Soft Top</th>\n",
       "      <th>Fold-Away Third Row</th>\n",
       "      <th>year</th>\n",
       "      <th>make</th>\n",
       "      <th>model</th>\n",
       "      <th>state</th>\n",
       "      <th>city</th>\n",
       "    </tr>\n",
       "  </thead>\n",
       "  <tbody>\n",
       "    <tr>\n",
       "      <th>0</th>\n",
       "      <td>38</td>\n",
       "      <td>4.5</td>\n",
       "      <td>87</td>\n",
       "      <td>4.0</td>\n",
       "      <td>2.0</td>\n",
       "      <td>1.6</td>\n",
       "      <td>Manual</td>\n",
       "      <td>Red</td>\n",
       "      <td>Black</td>\n",
       "      <td>0</td>\n",
       "      <td>...</td>\n",
       "      <td>0</td>\n",
       "      <td>0</td>\n",
       "      <td>0</td>\n",
       "      <td>0</td>\n",
       "      <td>0</td>\n",
       "      <td>2009</td>\n",
       "      <td>Hyundai</td>\n",
       "      <td>Accent GS</td>\n",
       "      <td>UT</td>\n",
       "      <td>Salt Lake City</td>\n",
       "    </tr>\n",
       "    <tr>\n",
       "      <th>1</th>\n",
       "      <td>28</td>\n",
       "      <td>4.0</td>\n",
       "      <td>127</td>\n",
       "      <td>4.0</td>\n",
       "      <td>2.0</td>\n",
       "      <td>2.2</td>\n",
       "      <td>Manual</td>\n",
       "      <td>Gray</td>\n",
       "      <td>Gray</td>\n",
       "      <td>1</td>\n",
       "      <td>...</td>\n",
       "      <td>0</td>\n",
       "      <td>0</td>\n",
       "      <td>0</td>\n",
       "      <td>0</td>\n",
       "      <td>0</td>\n",
       "      <td>2006</td>\n",
       "      <td>Saturn</td>\n",
       "      <td>Ion 2</td>\n",
       "      <td>CA</td>\n",
       "      <td>Los Angeles</td>\n",
       "    </tr>\n",
       "    <tr>\n",
       "      <th>2</th>\n",
       "      <td>46</td>\n",
       "      <td>4.0</td>\n",
       "      <td>86</td>\n",
       "      <td>3.0</td>\n",
       "      <td>2.0</td>\n",
       "      <td>1.0</td>\n",
       "      <td>Automatic</td>\n",
       "      <td>White</td>\n",
       "      <td>Black</td>\n",
       "      <td>0</td>\n",
       "      <td>...</td>\n",
       "      <td>0</td>\n",
       "      <td>0</td>\n",
       "      <td>0</td>\n",
       "      <td>0</td>\n",
       "      <td>0</td>\n",
       "      <td>2008</td>\n",
       "      <td>Smart</td>\n",
       "      <td>Fortwo Pure</td>\n",
       "      <td>CA</td>\n",
       "      <td>Los Angeles</td>\n",
       "    </tr>\n",
       "    <tr>\n",
       "      <th>3</th>\n",
       "      <td>37</td>\n",
       "      <td>4.5</td>\n",
       "      <td>114</td>\n",
       "      <td>4.0</td>\n",
       "      <td>2.0</td>\n",
       "      <td>1.6</td>\n",
       "      <td>Manual</td>\n",
       "      <td>Silver</td>\n",
       "      <td>Black</td>\n",
       "      <td>1</td>\n",
       "      <td>...</td>\n",
       "      <td>0</td>\n",
       "      <td>0</td>\n",
       "      <td>0</td>\n",
       "      <td>0</td>\n",
       "      <td>0</td>\n",
       "      <td>2010</td>\n",
       "      <td>Hyundai</td>\n",
       "      <td>Accent Blue</td>\n",
       "      <td>MD</td>\n",
       "      <td>Salisbury</td>\n",
       "    </tr>\n",
       "    <tr>\n",
       "      <th>4</th>\n",
       "      <td>12</td>\n",
       "      <td>4.5</td>\n",
       "      <td>73</td>\n",
       "      <td>4.0</td>\n",
       "      <td>2.0</td>\n",
       "      <td>1.6</td>\n",
       "      <td>Manual</td>\n",
       "      <td>White</td>\n",
       "      <td>Black</td>\n",
       "      <td>0</td>\n",
       "      <td>...</td>\n",
       "      <td>0</td>\n",
       "      <td>0</td>\n",
       "      <td>1</td>\n",
       "      <td>0</td>\n",
       "      <td>0</td>\n",
       "      <td>2006</td>\n",
       "      <td>Chevrolet</td>\n",
       "      <td>Aveo LS</td>\n",
       "      <td>CA</td>\n",
       "      <td>San Diego</td>\n",
       "    </tr>\n",
       "  </tbody>\n",
       "</table>\n",
       "<p>5 rows × 124 columns</p>\n",
       "</div>"
      ],
      "text/plain": [
       "   Num_reviews  stars  mileage  cylinders  drive  engine transmission  \\\n",
       "0           38    4.5       87        4.0    2.0     1.6       Manual   \n",
       "1           28    4.0      127        4.0    2.0     2.2       Manual   \n",
       "2           46    4.0       86        3.0    2.0     1.0    Automatic   \n",
       "3           37    4.5      114        4.0    2.0     1.6       Manual   \n",
       "4           12    4.5       73        4.0    2.0     1.6       Manual   \n",
       "\n",
       "  prim_color sec_color  Auxiliary Audio Input  ...  Anniversary Edition  \\\n",
       "0        Red     Black                      0  ...                    0   \n",
       "1       Gray      Gray                      1  ...                    0   \n",
       "2      White     Black                      0  ...                    0   \n",
       "3     Silver     Black                      1  ...                    0   \n",
       "4      White     Black                      0  ...                    0   \n",
       "\n",
       "   Leather Seats  No A/C  Soft Top  Fold-Away Third Row  year       make  \\\n",
       "0              0       0         0                    0  2009    Hyundai   \n",
       "1              0       0         0                    0  2006     Saturn   \n",
       "2              0       0         0                    0  2008      Smart   \n",
       "3              0       0         0                    0  2010    Hyundai   \n",
       "4              0       1         0                    0  2006  Chevrolet   \n",
       "\n",
       "         model  state            city  \n",
       "0    Accent GS     UT  Salt Lake City  \n",
       "1        Ion 2     CA     Los Angeles  \n",
       "2  Fortwo Pure     CA     Los Angeles  \n",
       "3  Accent Blue     MD       Salisbury  \n",
       "4      Aveo LS     CA       San Diego  \n",
       "\n",
       "[5 rows x 124 columns]"
      ]
     },
     "execution_count": 266,
     "metadata": {},
     "output_type": "execute_result"
    }
   ],
   "source": [
    "X_1.head()"
   ]
  },
  {
   "cell_type": "code",
   "execution_count": 267,
   "metadata": {
    "scrolled": true
   },
   "outputs": [
    {
     "data": {
      "text/plain": [
       "Num_reviews               False\n",
       "stars                      True\n",
       "mileage                   False\n",
       "cylinders                  True\n",
       "drive                      True\n",
       "engine                     True\n",
       "transmission               True\n",
       "prim_color                 True\n",
       "sec_color                  True\n",
       "Auxiliary Audio Input     False\n",
       "Ultimate Package          False\n",
       "Alpine Sound System       False\n",
       "Sunroof(s)                False\n",
       "Auto Cruise Control       False\n",
       "Power Windows             False\n",
       "Rear Air Conditioning     False\n",
       "S-Line                    False\n",
       "Monsoon Sound             False\n",
       "Long Bed                  False\n",
       "John Cooper Works Pkg     False\n",
       "Harman Kardon Sound       False\n",
       "Full Roof Rack            False\n",
       "Tow Hitch                 False\n",
       "DVD Video System          False\n",
       "Technology Package        False\n",
       "Running Boards            False\n",
       "Air Conditioning          False\n",
       "Z71 Package               False\n",
       "Hard Top                  False\n",
       "Side Airbags              False\n",
       "                          ...  \n",
       "Traction Control          False\n",
       "CD Audio                  False\n",
       "JBL Sound System          False\n",
       "Rear Spoiler              False\n",
       "Touring Package           False\n",
       "Alternative Fuel          False\n",
       "Adjustable Suspension     False\n",
       "ABS Brakes                False\n",
       "Alloy Wheels              False\n",
       "Supercharged Engine       False\n",
       "Mark Levinson Sound       False\n",
       "Gooseneck Tow Hitch       False\n",
       "Rockford Fosgate Sound    False\n",
       "Competition Package       False\n",
       "Sport Package             False\n",
       "SRT Design Package        False\n",
       "Dual Rear Wheels          False\n",
       "Special Edition           False\n",
       "Luxury Package            False\n",
       "Targa                     False\n",
       "Anniversary Edition       False\n",
       "Leather Seats             False\n",
       "No A/C                    False\n",
       "Soft Top                  False\n",
       "Fold-Away Third Row       False\n",
       "year                      False\n",
       "make                      False\n",
       "model                      True\n",
       "state                      True\n",
       "city                       True\n",
       "Length: 124, dtype: bool"
      ]
     },
     "execution_count": 267,
     "metadata": {},
     "output_type": "execute_result"
    }
   ],
   "source": [
    "# A few columns have NAs, but XGBoost can handle those\n",
    "X_1.isna().any()"
   ]
  },
  {
   "cell_type": "code",
   "execution_count": 243,
   "metadata": {},
   "outputs": [],
   "source": [
    "# One-hot encode remaining columns\n",
    "X = pd.get_dummies(X_1)"
   ]
  },
  {
   "cell_type": "code",
   "execution_count": 244,
   "metadata": {},
   "outputs": [
    {
     "data": {
      "text/html": [
       "<div>\n",
       "<style scoped>\n",
       "    .dataframe tbody tr th:only-of-type {\n",
       "        vertical-align: middle;\n",
       "    }\n",
       "\n",
       "    .dataframe tbody tr th {\n",
       "        vertical-align: top;\n",
       "    }\n",
       "\n",
       "    .dataframe thead th {\n",
       "        text-align: right;\n",
       "    }\n",
       "</style>\n",
       "<table border=\"1\" class=\"dataframe\">\n",
       "  <thead>\n",
       "    <tr style=\"text-align: right;\">\n",
       "      <th></th>\n",
       "      <th>Num_reviews</th>\n",
       "      <th>stars</th>\n",
       "      <th>mileage</th>\n",
       "      <th>cylinders</th>\n",
       "      <th>drive</th>\n",
       "      <th>engine</th>\n",
       "      <th>Auxiliary Audio Input</th>\n",
       "      <th>Ultimate Package</th>\n",
       "      <th>Alpine Sound System</th>\n",
       "      <th>Sunroof(s)</th>\n",
       "      <th>...</th>\n",
       "      <th>city_Town Center</th>\n",
       "      <th>city_Tucson</th>\n",
       "      <th>city_Tulsa</th>\n",
       "      <th>city_Tupelo</th>\n",
       "      <th>city_Twin Cities</th>\n",
       "      <th>city_Virginia Beach</th>\n",
       "      <th>city_Waterbury</th>\n",
       "      <th>city_White Marsh</th>\n",
       "      <th>city_Wichita</th>\n",
       "      <th>city_Woodbridge</th>\n",
       "    </tr>\n",
       "  </thead>\n",
       "  <tbody>\n",
       "    <tr>\n",
       "      <th>0</th>\n",
       "      <td>38</td>\n",
       "      <td>4.5</td>\n",
       "      <td>87</td>\n",
       "      <td>4.0</td>\n",
       "      <td>2.0</td>\n",
       "      <td>1.6</td>\n",
       "      <td>0</td>\n",
       "      <td>0</td>\n",
       "      <td>0</td>\n",
       "      <td>0</td>\n",
       "      <td>...</td>\n",
       "      <td>0</td>\n",
       "      <td>0</td>\n",
       "      <td>0</td>\n",
       "      <td>0</td>\n",
       "      <td>0</td>\n",
       "      <td>0</td>\n",
       "      <td>0</td>\n",
       "      <td>0</td>\n",
       "      <td>0</td>\n",
       "      <td>0</td>\n",
       "    </tr>\n",
       "    <tr>\n",
       "      <th>1</th>\n",
       "      <td>28</td>\n",
       "      <td>4.0</td>\n",
       "      <td>127</td>\n",
       "      <td>4.0</td>\n",
       "      <td>2.0</td>\n",
       "      <td>2.2</td>\n",
       "      <td>1</td>\n",
       "      <td>0</td>\n",
       "      <td>0</td>\n",
       "      <td>0</td>\n",
       "      <td>...</td>\n",
       "      <td>0</td>\n",
       "      <td>0</td>\n",
       "      <td>0</td>\n",
       "      <td>0</td>\n",
       "      <td>0</td>\n",
       "      <td>0</td>\n",
       "      <td>0</td>\n",
       "      <td>0</td>\n",
       "      <td>0</td>\n",
       "      <td>0</td>\n",
       "    </tr>\n",
       "    <tr>\n",
       "      <th>2</th>\n",
       "      <td>46</td>\n",
       "      <td>4.0</td>\n",
       "      <td>86</td>\n",
       "      <td>3.0</td>\n",
       "      <td>2.0</td>\n",
       "      <td>1.0</td>\n",
       "      <td>0</td>\n",
       "      <td>0</td>\n",
       "      <td>0</td>\n",
       "      <td>0</td>\n",
       "      <td>...</td>\n",
       "      <td>0</td>\n",
       "      <td>0</td>\n",
       "      <td>0</td>\n",
       "      <td>0</td>\n",
       "      <td>0</td>\n",
       "      <td>0</td>\n",
       "      <td>0</td>\n",
       "      <td>0</td>\n",
       "      <td>0</td>\n",
       "      <td>0</td>\n",
       "    </tr>\n",
       "    <tr>\n",
       "      <th>3</th>\n",
       "      <td>37</td>\n",
       "      <td>4.5</td>\n",
       "      <td>114</td>\n",
       "      <td>4.0</td>\n",
       "      <td>2.0</td>\n",
       "      <td>1.6</td>\n",
       "      <td>1</td>\n",
       "      <td>0</td>\n",
       "      <td>0</td>\n",
       "      <td>0</td>\n",
       "      <td>...</td>\n",
       "      <td>0</td>\n",
       "      <td>0</td>\n",
       "      <td>0</td>\n",
       "      <td>0</td>\n",
       "      <td>0</td>\n",
       "      <td>0</td>\n",
       "      <td>0</td>\n",
       "      <td>0</td>\n",
       "      <td>0</td>\n",
       "      <td>0</td>\n",
       "    </tr>\n",
       "    <tr>\n",
       "      <th>4</th>\n",
       "      <td>12</td>\n",
       "      <td>4.5</td>\n",
       "      <td>73</td>\n",
       "      <td>4.0</td>\n",
       "      <td>2.0</td>\n",
       "      <td>1.6</td>\n",
       "      <td>0</td>\n",
       "      <td>0</td>\n",
       "      <td>0</td>\n",
       "      <td>0</td>\n",
       "      <td>...</td>\n",
       "      <td>0</td>\n",
       "      <td>0</td>\n",
       "      <td>0</td>\n",
       "      <td>0</td>\n",
       "      <td>0</td>\n",
       "      <td>0</td>\n",
       "      <td>0</td>\n",
       "      <td>0</td>\n",
       "      <td>0</td>\n",
       "      <td>0</td>\n",
       "    </tr>\n",
       "  </tbody>\n",
       "</table>\n",
       "<p>5 rows × 2067 columns</p>\n",
       "</div>"
      ],
      "text/plain": [
       "   Num_reviews  stars  mileage  cylinders  drive  engine  \\\n",
       "0           38    4.5       87        4.0    2.0     1.6   \n",
       "1           28    4.0      127        4.0    2.0     2.2   \n",
       "2           46    4.0       86        3.0    2.0     1.0   \n",
       "3           37    4.5      114        4.0    2.0     1.6   \n",
       "4           12    4.5       73        4.0    2.0     1.6   \n",
       "\n",
       "   Auxiliary Audio Input  Ultimate Package  Alpine Sound System  Sunroof(s)  \\\n",
       "0                      0                 0                    0           0   \n",
       "1                      1                 0                    0           0   \n",
       "2                      0                 0                    0           0   \n",
       "3                      1                 0                    0           0   \n",
       "4                      0                 0                    0           0   \n",
       "\n",
       "   ...  city_Town Center  city_Tucson  city_Tulsa  city_Tupelo  \\\n",
       "0  ...                 0            0           0            0   \n",
       "1  ...                 0            0           0            0   \n",
       "2  ...                 0            0           0            0   \n",
       "3  ...                 0            0           0            0   \n",
       "4  ...                 0            0           0            0   \n",
       "\n",
       "   city_Twin Cities  city_Virginia Beach  city_Waterbury  city_White Marsh  \\\n",
       "0                 0                    0               0                 0   \n",
       "1                 0                    0               0                 0   \n",
       "2                 0                    0               0                 0   \n",
       "3                 0                    0               0                 0   \n",
       "4                 0                    0               0                 0   \n",
       "\n",
       "   city_Wichita  city_Woodbridge  \n",
       "0             0                0  \n",
       "1             0                0  \n",
       "2             0                0  \n",
       "3             0                0  \n",
       "4             0                0  \n",
       "\n",
       "[5 rows x 2067 columns]"
      ]
     },
     "execution_count": 244,
     "metadata": {},
     "output_type": "execute_result"
    }
   ],
   "source": [
    "X.head()"
   ]
  },
  {
   "cell_type": "markdown",
   "metadata": {},
   "source": [
    "### Set target and split data"
   ]
  },
  {
   "cell_type": "code",
   "execution_count": 245,
   "metadata": {},
   "outputs": [],
   "source": [
    "y = df3['price']"
   ]
  },
  {
   "cell_type": "code",
   "execution_count": 248,
   "metadata": {},
   "outputs": [],
   "source": [
    "X_train, X_test, y_train, y_test = train_test_split(X, y, test_size=.4, random_state=42)\n",
    "X_test, X_valid, y_test, y_valid = train_test_split(X_test, y_test, test_size=.5, random_state=42)"
   ]
  },
  {
   "cell_type": "markdown",
   "metadata": {},
   "source": [
    "### Baseline model"
   ]
  },
  {
   "cell_type": "code",
   "execution_count": 271,
   "metadata": {
    "scrolled": true
   },
   "outputs": [
    {
     "name": "stdout",
     "output_type": "stream",
     "text": [
      "[0]\tvalidation_0-rmse:19649.5\n",
      "Will train until validation_0-rmse hasn't improved in 100 rounds.\n",
      "[1]\tvalidation_0-rmse:17799.3\n",
      "[2]\tvalidation_0-rmse:16145.1\n",
      "[3]\tvalidation_0-rmse:14657.9\n",
      "[4]\tvalidation_0-rmse:13322.9\n",
      "[5]\tvalidation_0-rmse:12141.9\n",
      "[6]\tvalidation_0-rmse:11078.7\n",
      "[7]\tvalidation_0-rmse:10129.2\n",
      "[8]\tvalidation_0-rmse:9277.03\n",
      "[9]\tvalidation_0-rmse:8517.95\n",
      "[10]\tvalidation_0-rmse:7846.58\n",
      "[11]\tvalidation_0-rmse:7252.2\n",
      "[12]\tvalidation_0-rmse:6716.05\n",
      "[13]\tvalidation_0-rmse:6233.42\n",
      "[14]\tvalidation_0-rmse:5815.99\n",
      "[15]\tvalidation_0-rmse:5447.28\n",
      "[16]\tvalidation_0-rmse:5121.24\n",
      "[17]\tvalidation_0-rmse:4835.84\n",
      "[18]\tvalidation_0-rmse:4582\n",
      "[19]\tvalidation_0-rmse:4356.51\n",
      "[20]\tvalidation_0-rmse:4164.58\n",
      "[21]\tvalidation_0-rmse:3999.61\n",
      "[22]\tvalidation_0-rmse:3856.16\n",
      "[23]\tvalidation_0-rmse:3732.47\n",
      "[24]\tvalidation_0-rmse:3617.61\n",
      "[25]\tvalidation_0-rmse:3508.01\n",
      "[26]\tvalidation_0-rmse:3415.81\n",
      "[27]\tvalidation_0-rmse:3342.56\n",
      "[28]\tvalidation_0-rmse:3273.38\n",
      "[29]\tvalidation_0-rmse:3202.4\n",
      "[30]\tvalidation_0-rmse:3144.94\n",
      "[31]\tvalidation_0-rmse:3094.49\n",
      "[32]\tvalidation_0-rmse:3048.36\n",
      "[33]\tvalidation_0-rmse:3006.22\n",
      "[34]\tvalidation_0-rmse:2967.21\n",
      "[35]\tvalidation_0-rmse:2935.81\n",
      "[36]\tvalidation_0-rmse:2905.63\n",
      "[37]\tvalidation_0-rmse:2881.08\n",
      "[38]\tvalidation_0-rmse:2857.57\n",
      "[39]\tvalidation_0-rmse:2836.75\n",
      "[40]\tvalidation_0-rmse:2815.96\n",
      "[41]\tvalidation_0-rmse:2790.99\n",
      "[42]\tvalidation_0-rmse:2766.47\n",
      "[43]\tvalidation_0-rmse:2748.26\n",
      "[44]\tvalidation_0-rmse:2733.47\n",
      "[45]\tvalidation_0-rmse:2717.15\n",
      "[46]\tvalidation_0-rmse:2705.21\n",
      "[47]\tvalidation_0-rmse:2693.68\n",
      "[48]\tvalidation_0-rmse:2678.17\n",
      "[49]\tvalidation_0-rmse:2662.29\n",
      "[50]\tvalidation_0-rmse:2645.66\n",
      "[51]\tvalidation_0-rmse:2632.79\n",
      "[52]\tvalidation_0-rmse:2620.94\n",
      "[53]\tvalidation_0-rmse:2605.38\n",
      "[54]\tvalidation_0-rmse:2595.39\n",
      "[55]\tvalidation_0-rmse:2590.25\n",
      "[56]\tvalidation_0-rmse:2577.87\n",
      "[57]\tvalidation_0-rmse:2568.65\n",
      "[58]\tvalidation_0-rmse:2559.5\n",
      "[59]\tvalidation_0-rmse:2548.93\n",
      "[60]\tvalidation_0-rmse:2537.16\n",
      "[61]\tvalidation_0-rmse:2530.42\n",
      "[62]\tvalidation_0-rmse:2525.28\n",
      "[63]\tvalidation_0-rmse:2515.69\n",
      "[64]\tvalidation_0-rmse:2507.01\n",
      "[65]\tvalidation_0-rmse:2500.35\n",
      "[66]\tvalidation_0-rmse:2493.84\n",
      "[67]\tvalidation_0-rmse:2488.1\n",
      "[68]\tvalidation_0-rmse:2481.43\n",
      "[69]\tvalidation_0-rmse:2476.01\n",
      "[70]\tvalidation_0-rmse:2471.41\n",
      "[71]\tvalidation_0-rmse:2468.23\n",
      "[72]\tvalidation_0-rmse:2461.24\n",
      "[73]\tvalidation_0-rmse:2455.42\n",
      "[74]\tvalidation_0-rmse:2451\n",
      "[75]\tvalidation_0-rmse:2446.43\n",
      "[76]\tvalidation_0-rmse:2442.08\n",
      "[77]\tvalidation_0-rmse:2434.45\n",
      "[78]\tvalidation_0-rmse:2431.27\n",
      "[79]\tvalidation_0-rmse:2423.32\n",
      "[80]\tvalidation_0-rmse:2418.09\n",
      "[81]\tvalidation_0-rmse:2413.27\n",
      "[82]\tvalidation_0-rmse:2406.79\n",
      "[83]\tvalidation_0-rmse:2401.19\n",
      "[84]\tvalidation_0-rmse:2397.99\n",
      "[85]\tvalidation_0-rmse:2392.24\n",
      "[86]\tvalidation_0-rmse:2385.27\n",
      "[87]\tvalidation_0-rmse:2381.95\n",
      "[88]\tvalidation_0-rmse:2376.96\n",
      "[89]\tvalidation_0-rmse:2371.86\n",
      "[90]\tvalidation_0-rmse:2368\n",
      "[91]\tvalidation_0-rmse:2365.19\n",
      "[92]\tvalidation_0-rmse:2362.66\n",
      "[93]\tvalidation_0-rmse:2359.31\n",
      "[94]\tvalidation_0-rmse:2356.98\n",
      "[95]\tvalidation_0-rmse:2352.1\n",
      "[96]\tvalidation_0-rmse:2350.13\n",
      "[97]\tvalidation_0-rmse:2344.93\n",
      "[98]\tvalidation_0-rmse:2341.49\n",
      "[99]\tvalidation_0-rmse:2338.62\n",
      "[100]\tvalidation_0-rmse:2334.07\n",
      "[101]\tvalidation_0-rmse:2330.09\n",
      "[102]\tvalidation_0-rmse:2327.38\n",
      "[103]\tvalidation_0-rmse:2323.7\n",
      "[104]\tvalidation_0-rmse:2321.38\n",
      "[105]\tvalidation_0-rmse:2318.51\n",
      "[106]\tvalidation_0-rmse:2316.56\n",
      "[107]\tvalidation_0-rmse:2313.91\n",
      "[108]\tvalidation_0-rmse:2310.25\n",
      "[109]\tvalidation_0-rmse:2308.24\n",
      "[110]\tvalidation_0-rmse:2303.4\n",
      "[111]\tvalidation_0-rmse:2300.53\n",
      "[112]\tvalidation_0-rmse:2298\n",
      "[113]\tvalidation_0-rmse:2294.76\n",
      "[114]\tvalidation_0-rmse:2289.82\n",
      "[115]\tvalidation_0-rmse:2287.96\n",
      "[116]\tvalidation_0-rmse:2285.28\n",
      "[117]\tvalidation_0-rmse:2282.99\n",
      "[118]\tvalidation_0-rmse:2280.4\n",
      "[119]\tvalidation_0-rmse:2277.82\n",
      "[120]\tvalidation_0-rmse:2276.06\n",
      "[121]\tvalidation_0-rmse:2274.66\n",
      "[122]\tvalidation_0-rmse:2272.4\n",
      "[123]\tvalidation_0-rmse:2271.32\n",
      "[124]\tvalidation_0-rmse:2267.81\n",
      "[125]\tvalidation_0-rmse:2263.04\n",
      "[126]\tvalidation_0-rmse:2260.35\n",
      "[127]\tvalidation_0-rmse:2258.74\n",
      "[128]\tvalidation_0-rmse:2252.46\n",
      "[129]\tvalidation_0-rmse:2250.03\n",
      "[130]\tvalidation_0-rmse:2243.77\n",
      "[131]\tvalidation_0-rmse:2241.67\n",
      "[132]\tvalidation_0-rmse:2238.93\n",
      "[133]\tvalidation_0-rmse:2236.5\n",
      "[134]\tvalidation_0-rmse:2235.64\n",
      "[135]\tvalidation_0-rmse:2232.81\n",
      "[136]\tvalidation_0-rmse:2231.44\n",
      "[137]\tvalidation_0-rmse:2229.98\n",
      "[138]\tvalidation_0-rmse:2227.02\n",
      "[139]\tvalidation_0-rmse:2222.44\n",
      "[140]\tvalidation_0-rmse:2218.94\n",
      "[141]\tvalidation_0-rmse:2216.45\n",
      "[142]\tvalidation_0-rmse:2215.48\n",
      "[143]\tvalidation_0-rmse:2212.71\n",
      "[144]\tvalidation_0-rmse:2208.87\n",
      "[145]\tvalidation_0-rmse:2207\n",
      "[146]\tvalidation_0-rmse:2205.17\n",
      "[147]\tvalidation_0-rmse:2202.01\n",
      "[148]\tvalidation_0-rmse:2197.97\n",
      "[149]\tvalidation_0-rmse:2190.95\n",
      "[150]\tvalidation_0-rmse:2189.37\n",
      "[151]\tvalidation_0-rmse:2187.61\n",
      "[152]\tvalidation_0-rmse:2185.53\n",
      "[153]\tvalidation_0-rmse:2183.89\n",
      "[154]\tvalidation_0-rmse:2182.46\n",
      "[155]\tvalidation_0-rmse:2181.43\n",
      "[156]\tvalidation_0-rmse:2179.35\n",
      "[157]\tvalidation_0-rmse:2172.38\n",
      "[158]\tvalidation_0-rmse:2171.43\n",
      "[159]\tvalidation_0-rmse:2166.27\n",
      "[160]\tvalidation_0-rmse:2164.3\n",
      "[161]\tvalidation_0-rmse:2162.82\n",
      "[162]\tvalidation_0-rmse:2161.44\n",
      "[163]\tvalidation_0-rmse:2160.01\n",
      "[164]\tvalidation_0-rmse:2157.47\n",
      "[165]\tvalidation_0-rmse:2156.89\n",
      "[166]\tvalidation_0-rmse:2154.61\n",
      "[167]\tvalidation_0-rmse:2151.77\n",
      "[168]\tvalidation_0-rmse:2149.72\n",
      "[169]\tvalidation_0-rmse:2146.98\n",
      "[170]\tvalidation_0-rmse:2145.6\n",
      "[171]\tvalidation_0-rmse:2143.67\n",
      "[172]\tvalidation_0-rmse:2141.92\n",
      "[173]\tvalidation_0-rmse:2140.93\n",
      "[174]\tvalidation_0-rmse:2138.5\n",
      "[175]\tvalidation_0-rmse:2136.2\n",
      "[176]\tvalidation_0-rmse:2134.55\n",
      "[177]\tvalidation_0-rmse:2133.23\n",
      "[178]\tvalidation_0-rmse:2131.27\n",
      "[179]\tvalidation_0-rmse:2129.94\n",
      "[180]\tvalidation_0-rmse:2128.96\n",
      "[181]\tvalidation_0-rmse:2128.16\n",
      "[182]\tvalidation_0-rmse:2125.57\n",
      "[183]\tvalidation_0-rmse:2124.75\n",
      "[184]\tvalidation_0-rmse:2122.65\n",
      "[185]\tvalidation_0-rmse:2118.03\n",
      "[186]\tvalidation_0-rmse:2113.23\n",
      "[187]\tvalidation_0-rmse:2112.22\n",
      "[188]\tvalidation_0-rmse:2111.12\n",
      "[189]\tvalidation_0-rmse:2109.44\n",
      "[190]\tvalidation_0-rmse:2105.02\n",
      "[191]\tvalidation_0-rmse:2103.48\n",
      "[192]\tvalidation_0-rmse:2102.51\n",
      "[193]\tvalidation_0-rmse:2100.79\n",
      "[194]\tvalidation_0-rmse:2099.88\n",
      "[195]\tvalidation_0-rmse:2097.96\n",
      "[196]\tvalidation_0-rmse:2096.96\n",
      "[197]\tvalidation_0-rmse:2095.08\n",
      "[198]\tvalidation_0-rmse:2093.77\n",
      "[199]\tvalidation_0-rmse:2093.32\n",
      "[200]\tvalidation_0-rmse:2091.64\n",
      "[201]\tvalidation_0-rmse:2090.06\n",
      "[202]\tvalidation_0-rmse:2089.27\n",
      "[203]\tvalidation_0-rmse:2087.19\n",
      "[204]\tvalidation_0-rmse:2086.17\n",
      "[205]\tvalidation_0-rmse:2084.59\n",
      "[206]\tvalidation_0-rmse:2082.61\n",
      "[207]\tvalidation_0-rmse:2080.69\n",
      "[208]\tvalidation_0-rmse:2079.09\n",
      "[209]\tvalidation_0-rmse:2074.94\n",
      "[210]\tvalidation_0-rmse:2074.09\n",
      "[211]\tvalidation_0-rmse:2073.06\n",
      "[212]\tvalidation_0-rmse:2071.67\n",
      "[213]\tvalidation_0-rmse:2070.22\n",
      "[214]\tvalidation_0-rmse:2069.68\n",
      "[215]\tvalidation_0-rmse:2068.23\n",
      "[216]\tvalidation_0-rmse:2066.86\n",
      "[217]\tvalidation_0-rmse:2065.24\n",
      "[218]\tvalidation_0-rmse:2064.15\n",
      "[219]\tvalidation_0-rmse:2061.77\n",
      "[220]\tvalidation_0-rmse:2060.04\n",
      "[221]\tvalidation_0-rmse:2058.36\n",
      "[222]\tvalidation_0-rmse:2054.8\n",
      "[223]\tvalidation_0-rmse:2052.46\n",
      "[224]\tvalidation_0-rmse:2051.3\n",
      "[225]\tvalidation_0-rmse:2050.23\n",
      "[226]\tvalidation_0-rmse:2047.63\n",
      "[227]\tvalidation_0-rmse:2047.01\n",
      "[228]\tvalidation_0-rmse:2046.21\n",
      "[229]\tvalidation_0-rmse:2045.47\n",
      "[230]\tvalidation_0-rmse:2044.42\n",
      "[231]\tvalidation_0-rmse:2043.01\n",
      "[232]\tvalidation_0-rmse:2041.47\n",
      "[233]\tvalidation_0-rmse:2040.9\n",
      "[234]\tvalidation_0-rmse:2038.83\n",
      "[235]\tvalidation_0-rmse:2037.82\n",
      "[236]\tvalidation_0-rmse:2036.37\n",
      "[237]\tvalidation_0-rmse:2035.09\n",
      "[238]\tvalidation_0-rmse:2034.23\n",
      "[239]\tvalidation_0-rmse:2033.47\n",
      "[240]\tvalidation_0-rmse:2032.65\n",
      "[241]\tvalidation_0-rmse:2031.06\n",
      "[242]\tvalidation_0-rmse:2030.35\n",
      "[243]\tvalidation_0-rmse:2030.07\n",
      "[244]\tvalidation_0-rmse:2028.87\n",
      "[245]\tvalidation_0-rmse:2028.01\n",
      "[246]\tvalidation_0-rmse:2024.73\n",
      "[247]\tvalidation_0-rmse:2021.12\n",
      "[248]\tvalidation_0-rmse:2016.41\n",
      "[249]\tvalidation_0-rmse:2014.8\n",
      "[250]\tvalidation_0-rmse:2011.03\n",
      "[251]\tvalidation_0-rmse:2009.51\n",
      "[252]\tvalidation_0-rmse:2008.91\n",
      "[253]\tvalidation_0-rmse:2008.21\n",
      "[254]\tvalidation_0-rmse:2006.95\n",
      "[255]\tvalidation_0-rmse:2005.9\n",
      "[256]\tvalidation_0-rmse:2004.83\n",
      "[257]\tvalidation_0-rmse:2003.24\n",
      "[258]\tvalidation_0-rmse:2002.02\n"
     ]
    },
    {
     "name": "stdout",
     "output_type": "stream",
     "text": [
      "[259]\tvalidation_0-rmse:2001.24\n",
      "[260]\tvalidation_0-rmse:1999.52\n",
      "[261]\tvalidation_0-rmse:1996.63\n",
      "[262]\tvalidation_0-rmse:1996.44\n",
      "[263]\tvalidation_0-rmse:1994.83\n",
      "[264]\tvalidation_0-rmse:1993.36\n",
      "[265]\tvalidation_0-rmse:1990.45\n",
      "[266]\tvalidation_0-rmse:1989.69\n",
      "[267]\tvalidation_0-rmse:1988.99\n",
      "[268]\tvalidation_0-rmse:1987.99\n",
      "[269]\tvalidation_0-rmse:1985.82\n",
      "[270]\tvalidation_0-rmse:1985.26\n",
      "[271]\tvalidation_0-rmse:1984.49\n",
      "[272]\tvalidation_0-rmse:1983.09\n",
      "[273]\tvalidation_0-rmse:1982.28\n",
      "[274]\tvalidation_0-rmse:1981.54\n",
      "[275]\tvalidation_0-rmse:1980.77\n",
      "[276]\tvalidation_0-rmse:1979.79\n",
      "[277]\tvalidation_0-rmse:1978.92\n",
      "[278]\tvalidation_0-rmse:1978.07\n",
      "[279]\tvalidation_0-rmse:1975.89\n",
      "[280]\tvalidation_0-rmse:1974.91\n",
      "[281]\tvalidation_0-rmse:1974.37\n",
      "[282]\tvalidation_0-rmse:1973.21\n",
      "[283]\tvalidation_0-rmse:1971.61\n",
      "[284]\tvalidation_0-rmse:1968.83\n",
      "[285]\tvalidation_0-rmse:1967.99\n",
      "[286]\tvalidation_0-rmse:1967.5\n",
      "[287]\tvalidation_0-rmse:1966.05\n",
      "[288]\tvalidation_0-rmse:1965.73\n",
      "[289]\tvalidation_0-rmse:1964.91\n",
      "[290]\tvalidation_0-rmse:1963.5\n",
      "[291]\tvalidation_0-rmse:1963.14\n",
      "[292]\tvalidation_0-rmse:1962.31\n",
      "[293]\tvalidation_0-rmse:1961.44\n",
      "[294]\tvalidation_0-rmse:1958.37\n",
      "[295]\tvalidation_0-rmse:1957.16\n",
      "[296]\tvalidation_0-rmse:1954.9\n",
      "[297]\tvalidation_0-rmse:1953.54\n",
      "[298]\tvalidation_0-rmse:1953.28\n",
      "[299]\tvalidation_0-rmse:1952.85\n",
      "[300]\tvalidation_0-rmse:1951.87\n",
      "[301]\tvalidation_0-rmse:1951.01\n",
      "[302]\tvalidation_0-rmse:1949.65\n",
      "[303]\tvalidation_0-rmse:1947.77\n",
      "[304]\tvalidation_0-rmse:1947.15\n",
      "[305]\tvalidation_0-rmse:1945.96\n",
      "[306]\tvalidation_0-rmse:1945.37\n",
      "[307]\tvalidation_0-rmse:1944.31\n",
      "[308]\tvalidation_0-rmse:1943.38\n",
      "[309]\tvalidation_0-rmse:1942.22\n",
      "[310]\tvalidation_0-rmse:1941.63\n",
      "[311]\tvalidation_0-rmse:1941.06\n",
      "[312]\tvalidation_0-rmse:1940.37\n",
      "[313]\tvalidation_0-rmse:1940.02\n",
      "[314]\tvalidation_0-rmse:1939.46\n",
      "[315]\tvalidation_0-rmse:1937.47\n",
      "[316]\tvalidation_0-rmse:1936.39\n",
      "[317]\tvalidation_0-rmse:1935.78\n",
      "[318]\tvalidation_0-rmse:1935.12\n",
      "[319]\tvalidation_0-rmse:1934.06\n",
      "[320]\tvalidation_0-rmse:1933.7\n",
      "[321]\tvalidation_0-rmse:1932.42\n",
      "[322]\tvalidation_0-rmse:1931.35\n",
      "[323]\tvalidation_0-rmse:1930.62\n",
      "[324]\tvalidation_0-rmse:1929.84\n",
      "[325]\tvalidation_0-rmse:1928.82\n",
      "[326]\tvalidation_0-rmse:1928.03\n",
      "[327]\tvalidation_0-rmse:1926.97\n",
      "[328]\tvalidation_0-rmse:1925.57\n",
      "[329]\tvalidation_0-rmse:1923.82\n",
      "[330]\tvalidation_0-rmse:1921.6\n",
      "[331]\tvalidation_0-rmse:1921.36\n",
      "[332]\tvalidation_0-rmse:1919.45\n",
      "[333]\tvalidation_0-rmse:1917.08\n",
      "[334]\tvalidation_0-rmse:1916.5\n",
      "[335]\tvalidation_0-rmse:1913.67\n",
      "[336]\tvalidation_0-rmse:1913.1\n",
      "[337]\tvalidation_0-rmse:1911.94\n",
      "[338]\tvalidation_0-rmse:1911.13\n",
      "[339]\tvalidation_0-rmse:1910.54\n",
      "[340]\tvalidation_0-rmse:1909.06\n",
      "[341]\tvalidation_0-rmse:1908.18\n",
      "[342]\tvalidation_0-rmse:1905.87\n",
      "[343]\tvalidation_0-rmse:1905.65\n",
      "[344]\tvalidation_0-rmse:1904.93\n",
      "[345]\tvalidation_0-rmse:1903.99\n",
      "[346]\tvalidation_0-rmse:1903.4\n",
      "[347]\tvalidation_0-rmse:1902.89\n",
      "[348]\tvalidation_0-rmse:1901.26\n",
      "[349]\tvalidation_0-rmse:1899.6\n",
      "[350]\tvalidation_0-rmse:1899.05\n",
      "[351]\tvalidation_0-rmse:1897.55\n",
      "[352]\tvalidation_0-rmse:1894.78\n",
      "[353]\tvalidation_0-rmse:1893.9\n",
      "[354]\tvalidation_0-rmse:1893.29\n",
      "[355]\tvalidation_0-rmse:1892.37\n",
      "[356]\tvalidation_0-rmse:1891.72\n",
      "[357]\tvalidation_0-rmse:1891.15\n",
      "[358]\tvalidation_0-rmse:1890.23\n",
      "[359]\tvalidation_0-rmse:1889.88\n",
      "[360]\tvalidation_0-rmse:1889.12\n",
      "[361]\tvalidation_0-rmse:1888.53\n",
      "[362]\tvalidation_0-rmse:1888.04\n",
      "[363]\tvalidation_0-rmse:1887.41\n",
      "[364]\tvalidation_0-rmse:1887.16\n",
      "[365]\tvalidation_0-rmse:1886.72\n",
      "[366]\tvalidation_0-rmse:1886.21\n",
      "[367]\tvalidation_0-rmse:1885.71\n",
      "[368]\tvalidation_0-rmse:1885.02\n",
      "[369]\tvalidation_0-rmse:1884.8\n",
      "[370]\tvalidation_0-rmse:1884.39\n",
      "[371]\tvalidation_0-rmse:1883.48\n",
      "[372]\tvalidation_0-rmse:1882.81\n",
      "[373]\tvalidation_0-rmse:1881.98\n",
      "[374]\tvalidation_0-rmse:1880.97\n",
      "[375]\tvalidation_0-rmse:1880.19\n",
      "[376]\tvalidation_0-rmse:1878.7\n",
      "[377]\tvalidation_0-rmse:1877.1\n",
      "[378]\tvalidation_0-rmse:1876.85\n",
      "[379]\tvalidation_0-rmse:1876.14\n",
      "[380]\tvalidation_0-rmse:1875.6\n",
      "[381]\tvalidation_0-rmse:1874.36\n",
      "[382]\tvalidation_0-rmse:1873.23\n",
      "[383]\tvalidation_0-rmse:1871.63\n",
      "[384]\tvalidation_0-rmse:1871.28\n",
      "[385]\tvalidation_0-rmse:1870.64\n",
      "[386]\tvalidation_0-rmse:1868.65\n",
      "[387]\tvalidation_0-rmse:1867.86\n",
      "[388]\tvalidation_0-rmse:1867.58\n",
      "[389]\tvalidation_0-rmse:1866.64\n",
      "[390]\tvalidation_0-rmse:1866.14\n",
      "[391]\tvalidation_0-rmse:1866.04\n",
      "[392]\tvalidation_0-rmse:1865.52\n",
      "[393]\tvalidation_0-rmse:1865.12\n",
      "[394]\tvalidation_0-rmse:1864.58\n",
      "[395]\tvalidation_0-rmse:1863.77\n",
      "[396]\tvalidation_0-rmse:1863.49\n",
      "[397]\tvalidation_0-rmse:1863.14\n",
      "[398]\tvalidation_0-rmse:1862.67\n",
      "[399]\tvalidation_0-rmse:1861.98\n",
      "[400]\tvalidation_0-rmse:1860.76\n",
      "[401]\tvalidation_0-rmse:1859.69\n",
      "[402]\tvalidation_0-rmse:1859.1\n",
      "[403]\tvalidation_0-rmse:1858.67\n",
      "[404]\tvalidation_0-rmse:1858.4\n",
      "[405]\tvalidation_0-rmse:1857.78\n",
      "[406]\tvalidation_0-rmse:1857.47\n",
      "[407]\tvalidation_0-rmse:1857.08\n",
      "[408]\tvalidation_0-rmse:1856.61\n",
      "[409]\tvalidation_0-rmse:1855.23\n",
      "[410]\tvalidation_0-rmse:1854.73\n",
      "[411]\tvalidation_0-rmse:1854.09\n",
      "[412]\tvalidation_0-rmse:1853.54\n",
      "[413]\tvalidation_0-rmse:1852.64\n",
      "[414]\tvalidation_0-rmse:1851.98\n",
      "[415]\tvalidation_0-rmse:1851.59\n",
      "[416]\tvalidation_0-rmse:1850.72\n",
      "[417]\tvalidation_0-rmse:1850.42\n",
      "[418]\tvalidation_0-rmse:1850.19\n",
      "[419]\tvalidation_0-rmse:1848.71\n",
      "[420]\tvalidation_0-rmse:1848.09\n",
      "[421]\tvalidation_0-rmse:1847.33\n",
      "[422]\tvalidation_0-rmse:1847.24\n",
      "[423]\tvalidation_0-rmse:1846.58\n",
      "[424]\tvalidation_0-rmse:1846.23\n",
      "[425]\tvalidation_0-rmse:1845.27\n",
      "[426]\tvalidation_0-rmse:1844.93\n",
      "[427]\tvalidation_0-rmse:1844.66\n",
      "[428]\tvalidation_0-rmse:1843.39\n",
      "[429]\tvalidation_0-rmse:1842.67\n",
      "[430]\tvalidation_0-rmse:1841.66\n",
      "[431]\tvalidation_0-rmse:1841.34\n",
      "[432]\tvalidation_0-rmse:1840.82\n",
      "[433]\tvalidation_0-rmse:1840.39\n",
      "[434]\tvalidation_0-rmse:1839.87\n",
      "[435]\tvalidation_0-rmse:1839.28\n",
      "[436]\tvalidation_0-rmse:1838.61\n",
      "[437]\tvalidation_0-rmse:1838.27\n",
      "[438]\tvalidation_0-rmse:1837.17\n",
      "[439]\tvalidation_0-rmse:1835.44\n",
      "[440]\tvalidation_0-rmse:1834.82\n",
      "[441]\tvalidation_0-rmse:1834.37\n",
      "[442]\tvalidation_0-rmse:1833.99\n",
      "[443]\tvalidation_0-rmse:1832.96\n",
      "[444]\tvalidation_0-rmse:1832.73\n",
      "[445]\tvalidation_0-rmse:1831.39\n",
      "[446]\tvalidation_0-rmse:1829.08\n",
      "[447]\tvalidation_0-rmse:1828.55\n",
      "[448]\tvalidation_0-rmse:1826.36\n",
      "[449]\tvalidation_0-rmse:1826.11\n",
      "[450]\tvalidation_0-rmse:1824.31\n",
      "[451]\tvalidation_0-rmse:1823.59\n",
      "[452]\tvalidation_0-rmse:1822.94\n",
      "[453]\tvalidation_0-rmse:1822.35\n",
      "[454]\tvalidation_0-rmse:1821.42\n",
      "[455]\tvalidation_0-rmse:1820.43\n",
      "[456]\tvalidation_0-rmse:1819.12\n",
      "[457]\tvalidation_0-rmse:1818.82\n",
      "[458]\tvalidation_0-rmse:1818.24\n",
      "[459]\tvalidation_0-rmse:1817.86\n",
      "[460]\tvalidation_0-rmse:1817.4\n",
      "[461]\tvalidation_0-rmse:1817.17\n",
      "[462]\tvalidation_0-rmse:1816.51\n",
      "[463]\tvalidation_0-rmse:1815.37\n",
      "[464]\tvalidation_0-rmse:1815.13\n",
      "[465]\tvalidation_0-rmse:1814.76\n",
      "[466]\tvalidation_0-rmse:1814.44\n",
      "[467]\tvalidation_0-rmse:1813.2\n",
      "[468]\tvalidation_0-rmse:1812.26\n",
      "[469]\tvalidation_0-rmse:1811.83\n",
      "[470]\tvalidation_0-rmse:1811.2\n",
      "[471]\tvalidation_0-rmse:1809.99\n",
      "[472]\tvalidation_0-rmse:1809.3\n",
      "[473]\tvalidation_0-rmse:1809.08\n",
      "[474]\tvalidation_0-rmse:1808.67\n",
      "[475]\tvalidation_0-rmse:1808.24\n",
      "[476]\tvalidation_0-rmse:1807.91\n",
      "[477]\tvalidation_0-rmse:1807.69\n",
      "[478]\tvalidation_0-rmse:1807.2\n",
      "[479]\tvalidation_0-rmse:1806.82\n",
      "[480]\tvalidation_0-rmse:1806.49\n",
      "[481]\tvalidation_0-rmse:1806.28\n",
      "[482]\tvalidation_0-rmse:1805.56\n",
      "[483]\tvalidation_0-rmse:1804.63\n",
      "[484]\tvalidation_0-rmse:1803.96\n",
      "[485]\tvalidation_0-rmse:1802.47\n",
      "[486]\tvalidation_0-rmse:1802.15\n",
      "[487]\tvalidation_0-rmse:1801.79\n",
      "[488]\tvalidation_0-rmse:1801.35\n",
      "[489]\tvalidation_0-rmse:1801.1\n",
      "[490]\tvalidation_0-rmse:1800.7\n",
      "[491]\tvalidation_0-rmse:1798.96\n",
      "[492]\tvalidation_0-rmse:1798.42\n",
      "[493]\tvalidation_0-rmse:1797.93\n",
      "[494]\tvalidation_0-rmse:1797.14\n",
      "[495]\tvalidation_0-rmse:1796.15\n",
      "[496]\tvalidation_0-rmse:1795.64\n",
      "[497]\tvalidation_0-rmse:1794.98\n",
      "[498]\tvalidation_0-rmse:1794.53\n",
      "[499]\tvalidation_0-rmse:1794.24\n"
     ]
    },
    {
     "data": {
      "text/plain": [
       "0.9646842269740333"
      ]
     },
     "execution_count": 271,
     "metadata": {},
     "output_type": "execute_result"
    }
   ],
   "source": [
    "#My baseline model performance\n",
    "\n",
    "# model = RandomForestRegressor(n_estimators=500, max_depth=5, random_state=310, n_jobs=-1, oob_score=True, verbose=3)\n",
    "model = XGBRegressor(n_estimators=500, max_depth = 5, random_state=310, n_jobs=-1, silent=False)\n",
    "model.fit(X_train, y_train, eval_set = [(X_test, y_test)], early_stopping_rounds=100, eval_metric='rmse')\n",
    "model.score(X_train, y_train)\n"
   ]
  },
  {
   "cell_type": "code",
   "execution_count": 272,
   "metadata": {},
   "outputs": [
    {
     "data": {
      "text/plain": [
       "0.9555548431301689"
      ]
     },
     "execution_count": 272,
     "metadata": {},
     "output_type": "execute_result"
    }
   ],
   "source": [
    "model.score(X_test, y_test)"
   ]
  },
  {
   "cell_type": "markdown",
   "metadata": {},
   "source": [
    "### Use SHAP values to investigate feature relevance\n",
    "#### (following procedure from here: https://github.com/slundberg/shap)"
   ]
  },
  {
   "cell_type": "code",
   "execution_count": null,
   "metadata": {},
   "outputs": [],
   "source": [
    "# explain the model's predictions using SHAP values\n",
    "# (same syntax works for LightGBM, CatBoost, and scikit-learn models)\n",
    "explainer = shap.TreeExplainer(model)\n",
    "shap_values = explainer.shap_values(X)"
   ]
  },
  {
   "cell_type": "code",
   "execution_count": 275,
   "metadata": {},
   "outputs": [
    {
     "data": {
      "image/png": "[encoded data removed]",
      "text/plain": [
       "<Figure size 1440x216 with 1 Axes>"
      ]
     },
     "metadata": {
      "needs_background": "light"
     },
     "output_type": "display_data"
    }
   ],
   "source": [
    "# visualize the first prediction's explanation (use matplotlib=True to avoid Javascript)\n",
    "shap.force_plot(explainer.expected_value, shap_values[0,:], X.iloc[0,:], matplotlib=True)"
   ]
  },
  {
   "cell_type": "code",
   "execution_count": 277,
   "metadata": {},
   "outputs": [
    {
     "data": {
      "image/png": "[encoded data removed]",
      "text/plain": [
       "<Figure size 540x360 with 2 Axes>"
      ]
     },
     "metadata": {
      "needs_background": "light"
     },
     "output_type": "display_data"
    }
   ],
   "source": [
    "# create a SHAP dependence plot to show the effect of a single feature across the whole dataset\n",
    "shap.dependence_plot(\"mileage\", shap_values, X)"
   ]
  },
  {
   "cell_type": "markdown",
   "metadata": {},
   "source": [
    "### Select most relevant columns"
   ]
  },
  {
   "cell_type": "code",
   "execution_count": 295,
   "metadata": {},
   "outputs": [],
   "source": [
    "num_cols = 100"
   ]
  },
  {
   "cell_type": "code",
   "execution_count": 280,
   "metadata": {},
   "outputs": [
    {
     "data": {
      "image/png": "[encoded data removed]",
      "text/plain": [
       "<Figure size 576x2988 with 1 Axes>"
      ]
     },
     "metadata": {
      "needs_background": "light"
     },
     "output_type": "display_data"
    }
   ],
   "source": [
    "# summarize the effects of all the features\n",
    "shap.summary_plot(shap_values, X, plot_type='bar', max_display=num_cols)"
   ]
  },
  {
   "cell_type": "code",
   "execution_count": 297,
   "metadata": {},
   "outputs": [],
   "source": [
    "keep_cols = list(map(lambda x: x[0], sorted(list(zip(X.columns,np.abs(shap_values).mean(axis=0))),\n",
    "                                key = lambda x: -x[1])[:num_cols]))"
   ]
  },
  {
   "cell_type": "code",
   "execution_count": 299,
   "metadata": {},
   "outputs": [
    {
     "data": {
      "text/html": [
       "<div>\n",
       "<style scoped>\n",
       "    .dataframe tbody tr th:only-of-type {\n",
       "        vertical-align: middle;\n",
       "    }\n",
       "\n",
       "    .dataframe tbody tr th {\n",
       "        vertical-align: top;\n",
       "    }\n",
       "\n",
       "    .dataframe thead th {\n",
       "        text-align: right;\n",
       "    }\n",
       "</style>\n",
       "<table border=\"1\" class=\"dataframe\">\n",
       "  <thead>\n",
       "    <tr style=\"text-align: right;\">\n",
       "      <th></th>\n",
       "      <th>engine</th>\n",
       "      <th>cylinders</th>\n",
       "      <th>mileage</th>\n",
       "      <th>Auxiliary Audio Input</th>\n",
       "      <th>year</th>\n",
       "      <th>drive</th>\n",
       "      <th>Num_reviews</th>\n",
       "      <th>Power Liftgate/DeckLid</th>\n",
       "      <th>Overhead Airbags</th>\n",
       "      <th>Turbo Charged Engine</th>\n",
       "      <th>...</th>\n",
       "      <th>model_ES 350</th>\n",
       "      <th>model_4Runner Limited</th>\n",
       "      <th>3rd Rear Seat</th>\n",
       "      <th>model_QX60</th>\n",
       "      <th>Full Leather Interior</th>\n",
       "      <th>sec_color_Gray</th>\n",
       "      <th>make_Fiat</th>\n",
       "      <th>model_Tahoe LTZ</th>\n",
       "      <th>model_Mustang Shelby GT350</th>\n",
       "      <th>make_Volvo</th>\n",
       "    </tr>\n",
       "  </thead>\n",
       "  <tbody>\n",
       "    <tr>\n",
       "      <th>0</th>\n",
       "      <td>1.6</td>\n",
       "      <td>4.0</td>\n",
       "      <td>87</td>\n",
       "      <td>0</td>\n",
       "      <td>2009</td>\n",
       "      <td>2.0</td>\n",
       "      <td>38</td>\n",
       "      <td>0</td>\n",
       "      <td>1</td>\n",
       "      <td>0</td>\n",
       "      <td>...</td>\n",
       "      <td>0</td>\n",
       "      <td>0</td>\n",
       "      <td>0</td>\n",
       "      <td>0</td>\n",
       "      <td>0</td>\n",
       "      <td>0</td>\n",
       "      <td>0</td>\n",
       "      <td>0</td>\n",
       "      <td>0</td>\n",
       "      <td>0</td>\n",
       "    </tr>\n",
       "    <tr>\n",
       "      <th>1</th>\n",
       "      <td>2.2</td>\n",
       "      <td>4.0</td>\n",
       "      <td>127</td>\n",
       "      <td>1</td>\n",
       "      <td>2006</td>\n",
       "      <td>2.0</td>\n",
       "      <td>28</td>\n",
       "      <td>0</td>\n",
       "      <td>0</td>\n",
       "      <td>0</td>\n",
       "      <td>...</td>\n",
       "      <td>0</td>\n",
       "      <td>0</td>\n",
       "      <td>0</td>\n",
       "      <td>0</td>\n",
       "      <td>0</td>\n",
       "      <td>1</td>\n",
       "      <td>0</td>\n",
       "      <td>0</td>\n",
       "      <td>0</td>\n",
       "      <td>0</td>\n",
       "    </tr>\n",
       "    <tr>\n",
       "      <th>2</th>\n",
       "      <td>1.0</td>\n",
       "      <td>3.0</td>\n",
       "      <td>86</td>\n",
       "      <td>0</td>\n",
       "      <td>2008</td>\n",
       "      <td>2.0</td>\n",
       "      <td>46</td>\n",
       "      <td>0</td>\n",
       "      <td>0</td>\n",
       "      <td>0</td>\n",
       "      <td>...</td>\n",
       "      <td>0</td>\n",
       "      <td>0</td>\n",
       "      <td>0</td>\n",
       "      <td>0</td>\n",
       "      <td>0</td>\n",
       "      <td>0</td>\n",
       "      <td>0</td>\n",
       "      <td>0</td>\n",
       "      <td>0</td>\n",
       "      <td>0</td>\n",
       "    </tr>\n",
       "    <tr>\n",
       "      <th>3</th>\n",
       "      <td>1.6</td>\n",
       "      <td>4.0</td>\n",
       "      <td>114</td>\n",
       "      <td>1</td>\n",
       "      <td>2010</td>\n",
       "      <td>2.0</td>\n",
       "      <td>37</td>\n",
       "      <td>0</td>\n",
       "      <td>1</td>\n",
       "      <td>0</td>\n",
       "      <td>...</td>\n",
       "      <td>0</td>\n",
       "      <td>0</td>\n",
       "      <td>0</td>\n",
       "      <td>0</td>\n",
       "      <td>0</td>\n",
       "      <td>0</td>\n",
       "      <td>0</td>\n",
       "      <td>0</td>\n",
       "      <td>0</td>\n",
       "      <td>0</td>\n",
       "    </tr>\n",
       "    <tr>\n",
       "      <th>4</th>\n",
       "      <td>1.6</td>\n",
       "      <td>4.0</td>\n",
       "      <td>73</td>\n",
       "      <td>0</td>\n",
       "      <td>2006</td>\n",
       "      <td>2.0</td>\n",
       "      <td>12</td>\n",
       "      <td>0</td>\n",
       "      <td>0</td>\n",
       "      <td>0</td>\n",
       "      <td>...</td>\n",
       "      <td>0</td>\n",
       "      <td>0</td>\n",
       "      <td>0</td>\n",
       "      <td>0</td>\n",
       "      <td>0</td>\n",
       "      <td>0</td>\n",
       "      <td>0</td>\n",
       "      <td>0</td>\n",
       "      <td>0</td>\n",
       "      <td>0</td>\n",
       "    </tr>\n",
       "  </tbody>\n",
       "</table>\n",
       "<p>5 rows × 100 columns</p>\n",
       "</div>"
      ],
      "text/plain": [
       "   engine  cylinders  mileage  Auxiliary Audio Input  year  drive  \\\n",
       "0     1.6        4.0       87                      0  2009    2.0   \n",
       "1     2.2        4.0      127                      1  2006    2.0   \n",
       "2     1.0        3.0       86                      0  2008    2.0   \n",
       "3     1.6        4.0      114                      1  2010    2.0   \n",
       "4     1.6        4.0       73                      0  2006    2.0   \n",
       "\n",
       "   Num_reviews  Power Liftgate/DeckLid  Overhead Airbags  \\\n",
       "0           38                       0                 1   \n",
       "1           28                       0                 0   \n",
       "2           46                       0                 0   \n",
       "3           37                       0                 1   \n",
       "4           12                       0                 0   \n",
       "\n",
       "   Turbo Charged Engine  ...  model_ES 350  model_4Runner Limited  \\\n",
       "0                     0  ...             0                      0   \n",
       "1                     0  ...             0                      0   \n",
       "2                     0  ...             0                      0   \n",
       "3                     0  ...             0                      0   \n",
       "4                     0  ...             0                      0   \n",
       "\n",
       "   3rd Rear Seat  model_QX60  Full Leather Interior  sec_color_Gray  \\\n",
       "0              0           0                      0               0   \n",
       "1              0           0                      0               1   \n",
       "2              0           0                      0               0   \n",
       "3              0           0                      0               0   \n",
       "4              0           0                      0               0   \n",
       "\n",
       "   make_Fiat  model_Tahoe LTZ  model_Mustang Shelby GT350  make_Volvo  \n",
       "0          0                0                           0           0  \n",
       "1          0                0                           0           0  \n",
       "2          0                0                           0           0  \n",
       "3          0                0                           0           0  \n",
       "4          0                0                           0           0  \n",
       "\n",
       "[5 rows x 100 columns]"
      ]
     },
     "execution_count": 299,
     "metadata": {},
     "output_type": "execute_result"
    }
   ],
   "source": [
    "X[keep_cols].head()"
   ]
  },
  {
   "cell_type": "markdown",
   "metadata": {},
   "source": [
    "### Set Up Bayesian Optimization"
   ]
  },
  {
   "cell_type": "code",
   "execution_count": 303,
   "metadata": {},
   "outputs": [
    {
     "name": "stderr",
     "output_type": "stream",
     "text": [
      "/anaconda3/lib/python3.7/site-packages/xgboost/core.py:587: FutureWarning: Series.base is deprecated and will be removed in a future version\n",
      "  if getattr(data, 'base', None) is not None and \\\n"
     ]
    }
   ],
   "source": [
    "folds = 5\n",
    "\n",
    "dtrain = xgb.DMatrix(X_train[keep_cols], label = y_train)"
   ]
  },
  {
   "cell_type": "code",
   "execution_count": 307,
   "metadata": {},
   "outputs": [],
   "source": [
    "params = {\n",
    "        'eval_metric':'rmse',\n",
    "        'eta':0.1,\n",
    "        'nthread':4\n",
    "    }"
   ]
  },
  {
   "cell_type": "code",
   "execution_count": 325,
   "metadata": {},
   "outputs": [],
   "source": [
    "def objective_xgb(min_child_weight, gamma, subsample, colsample_bytree, max_depth):\n",
    "    params = {\n",
    "        'eval_metric':'rmse',\n",
    "        'min_child_weight': int(min_child_weight),\n",
    "        'gamma': gamma,\n",
    "        'subsample': subsample,\n",
    "        'colsample_bytree': colsample_bytree,\n",
    "        'max_depth': int(max_depth),\n",
    "        'eta':0.1,\n",
    "        'nthread':4\n",
    "    }\n",
    "    \n",
    "    xmodelcv = xgb.cv(params = params, dtrain = dtrain, nfold = folds, num_boost_round=10000,\n",
    "                      early_stopping_rounds=100,\n",
    "                      seed = 42\n",
    "                     )\n",
    "    \n",
    "    best_score = -xmodelcv['test-rmse-mean'].iloc[-1]\n",
    "    \n",
    "    return best_score"
   ]
  },
  {
   "cell_type": "code",
   "execution_count": 326,
   "metadata": {},
   "outputs": [],
   "source": [
    "pbounds = {\n",
    "        'min_child_weight': (1, 10),\n",
    "        'gamma': (.5, 5),\n",
    "        'subsample': (0.6, 1.0),\n",
    "        'colsample_bytree': (0.3, 1.0),\n",
    "        'max_depth': (3, 10)\n",
    "        }"
   ]
  },
  {
   "cell_type": "code",
   "execution_count": 327,
   "metadata": {},
   "outputs": [],
   "source": [
    "from bayes_opt import BayesianOptimization"
   ]
  },
  {
   "cell_type": "code",
   "execution_count": 328,
   "metadata": {},
   "outputs": [],
   "source": [
    "optimizer = BayesianOptimization(objective_xgb, pbounds, random_state = 42, verbose = 3)"
   ]
  },
  {
   "cell_type": "markdown",
   "metadata": {},
   "source": [
    "### Run Bayesian Optimization"
   ]
  },
  {
   "cell_type": "code",
   "execution_count": 329,
   "metadata": {},
   "outputs": [
    {
     "name": "stdout",
     "output_type": "stream",
     "text": [
      "|   iter    |  target   | colsam... |   gamma   | max_depth | min_ch... | subsample |\n",
      "-------------------------------------------------------------------------------------\n",
      "| \u001b[0m 1       \u001b[0m | \u001b[0m-1.697e+0\u001b[0m | \u001b[0m 0.5622  \u001b[0m | \u001b[0m 4.778   \u001b[0m | \u001b[0m 8.124   \u001b[0m | \u001b[0m 6.388   \u001b[0m | \u001b[0m 0.6624  \u001b[0m |\n",
      "| \u001b[0m 2       \u001b[0m | \u001b[0m-1.779e+0\u001b[0m | \u001b[0m 0.9743  \u001b[0m | \u001b[0m 0.5137  \u001b[0m | \u001b[0m 3.199   \u001b[0m | \u001b[0m 1.005   \u001b[0m | \u001b[0m 0.725   \u001b[0m |\n",
      "=====================================================================================\n"
     ]
    }
   ],
   "source": [
    "optimizer.maximize(init_points=0, n_iter=1)"
   ]
  },
  {
   "cell_type": "code",
   "execution_count": null,
   "metadata": {},
   "outputs": [
    {
     "name": "stdout",
     "output_type": "stream",
     "text": [
      "|   iter    |  target   | colsam... |   gamma   | max_depth | min_ch... | subsample |\n",
      "-------------------------------------------------------------------------------------\n",
      "| \u001b[95m 3       \u001b[0m | \u001b[95m-1.682e+0\u001b[0m | \u001b[95m 0.4092  \u001b[0m | \u001b[95m 0.7614  \u001b[0m | \u001b[95m 9.063   \u001b[0m | \u001b[95m 6.41    \u001b[0m | \u001b[95m 0.8832  \u001b[0m |\n",
      "| \u001b[0m 4       \u001b[0m | \u001b[0m-1.685e+0\u001b[0m | \u001b[0m 0.3144  \u001b[0m | \u001b[0m 4.865   \u001b[0m | \u001b[0m 8.827   \u001b[0m | \u001b[0m 2.911   \u001b[0m | \u001b[0m 0.6727  \u001b[0m |\n",
      "| \u001b[95m 5       \u001b[0m | \u001b[95m-1.669e+0\u001b[0m | \u001b[95m 0.4284  \u001b[0m | \u001b[95m 1.869   \u001b[0m | \u001b[95m 6.673   \u001b[0m | \u001b[95m 4.888   \u001b[0m | \u001b[95m 0.7165  \u001b[0m |\n",
      "| \u001b[0m 6       \u001b[0m | \u001b[0m-1.675e+0\u001b[0m | \u001b[0m 0.7283  \u001b[0m | \u001b[0m 1.128   \u001b[0m | \u001b[0m 5.045   \u001b[0m | \u001b[0m 4.297   \u001b[0m | \u001b[0m 0.7824  \u001b[0m |\n",
      "| \u001b[0m 7       \u001b[0m | \u001b[0m-1.686e+0\u001b[0m | \u001b[0m 0.8496  \u001b[0m | \u001b[0m 1.399   \u001b[0m | \u001b[0m 6.6     \u001b[0m | \u001b[0m 6.332   \u001b[0m | \u001b[0m 0.6186  \u001b[0m |\n",
      "| \u001b[0m 8       \u001b[0m | \u001b[0m-1.671e+0\u001b[0m | \u001b[0m 0.4861  \u001b[0m | \u001b[0m 1.694   \u001b[0m | \u001b[0m 6.327   \u001b[0m | \u001b[0m 4.736   \u001b[0m | \u001b[0m 0.7389  \u001b[0m |\n",
      "| \u001b[0m 9       \u001b[0m | \u001b[0m-1.669e+0\u001b[0m | \u001b[0m 0.424   \u001b[0m | \u001b[0m 1.802   \u001b[0m | \u001b[0m 6.754   \u001b[0m | \u001b[0m 4.882   \u001b[0m | \u001b[0m 0.7206  \u001b[0m |\n",
      "| \u001b[0m 10      \u001b[0m | \u001b[0m-1.678e+0\u001b[0m | \u001b[0m 0.3994  \u001b[0m | \u001b[0m 1.904   \u001b[0m | \u001b[0m 6.693   \u001b[0m | \u001b[0m 4.814   \u001b[0m | \u001b[0m 0.6711  \u001b[0m |\n",
      "| \u001b[0m 11      \u001b[0m | \u001b[0m-1.675e+0\u001b[0m | \u001b[0m 0.439   \u001b[0m | \u001b[0m 1.818   \u001b[0m | \u001b[0m 6.691   \u001b[0m | \u001b[0m 4.906   \u001b[0m | \u001b[0m 0.7358  \u001b[0m |\n",
      "| \u001b[0m 12      \u001b[0m | \u001b[0m-1.68e+03\u001b[0m | \u001b[0m 0.4204  \u001b[0m | \u001b[0m 1.849   \u001b[0m | \u001b[0m 6.718   \u001b[0m | \u001b[0m 4.876   \u001b[0m | \u001b[0m 0.7101  \u001b[0m |\n"
     ]
    }
   ],
   "source": [
    "optimizer.maximize()"
   ]
  },
  {
   "cell_type": "code",
   "execution_count": 332,
   "metadata": {},
   "outputs": [
    {
     "data": {
      "text/plain": [
       "22"
      ]
     },
     "execution_count": 332,
     "metadata": {},
     "output_type": "execute_result"
    }
   ],
   "source": [
    "len(optimizer.space)"
   ]
  },
  {
   "cell_type": "code",
   "execution_count": 334,
   "metadata": {},
   "outputs": [],
   "source": [
    "# model = RandomForestRegressor(n_estimators=500, max_depth=5, random_state=310, n_jobs=-1, oob_score=True, verbose=3)\n",
    "model = XGBRegressor(n_estimators=500, random_state=310, n_jobs=-1, silent=False,\n",
    "                     colsample_bytree=0.4766, gamma=1.61, subsample=0.9371, max_depth=6, min_child_weight=4)"
   ]
  },
  {
   "cell_type": "code",
   "execution_count": 336,
   "metadata": {},
   "outputs": [
    {
     "name": "stderr",
     "output_type": "stream",
     "text": [
      "/anaconda3/lib/python3.7/site-packages/xgboost/core.py:587: FutureWarning: Series.base is deprecated and will be removed in a future version\n",
      "  if getattr(data, 'base', None) is not None and \\\n"
     ]
    },
    {
     "data": {
      "text/plain": [
       "XGBRegressor(base_score=0.5, booster='gbtree', colsample_bylevel=1,\n",
       "             colsample_bytree=0.4766, gamma=1.61, importance_type='gain',\n",
       "             learning_rate=0.1, max_delta_step=0, max_depth=6,\n",
       "             min_child_weight=4, missing=None, n_estimators=500, n_jobs=-1,\n",
       "             nthread=None, objective='reg:linear', random_state=310,\n",
       "             reg_alpha=0, reg_lambda=1, scale_pos_weight=1, seed=None,\n",
       "             silent=False, subsample=0.9371)"
      ]
     },
     "execution_count": 336,
     "metadata": {},
     "output_type": "execute_result"
    }
   ],
   "source": [
    "model.fit(X_train[keep_cols], y_train)"
   ]
  },
  {
   "cell_type": "code",
   "execution_count": 337,
   "metadata": {},
   "outputs": [
    {
     "data": {
      "text/plain": [
       "0.9630399298665678"
      ]
     },
     "execution_count": 337,
     "metadata": {},
     "output_type": "execute_result"
    }
   ],
   "source": [
    "model.score(X_test[keep_cols], y_test)"
   ]
  },
  {
   "cell_type": "markdown",
   "metadata": {},
   "source": [
    "### Do grid search on integer-valued parameters"
   ]
  },
  {
   "cell_type": "code",
   "execution_count": 339,
   "metadata": {},
   "outputs": [],
   "source": [
    "param_grid = {\n",
    "    'min_child_weight': [1, 3, 5, 7, 9],\n",
    "    'max_depth': [3, 4, 5, 7, 8, 9, 10]\n",
    "}"
   ]
  },
  {
   "cell_type": "code",
   "execution_count": 340,
   "metadata": {},
   "outputs": [],
   "source": [
    "reg = XGBRegressor(n_estimators=500, random_state=310, n_jobs=-1, silent=False,\n",
    "                     colsample_bytree=0.4766, gamma=1.61, subsample=0.9371)"
   ]
  },
  {
   "cell_type": "code",
   "execution_count": 341,
   "metadata": {},
   "outputs": [],
   "source": [
    "grid = GridSearchCV(reg, param_grid=param_grid, n_jobs=-1, cv=5, verbose = 3)"
   ]
  },
  {
   "cell_type": "code",
   "execution_count": 342,
   "metadata": {},
   "outputs": [
    {
     "name": "stdout",
     "output_type": "stream",
     "text": [
      "Fitting 5 folds for each of 35 candidates, totalling 175 fits\n"
     ]
    },
    {
     "name": "stderr",
     "output_type": "stream",
     "text": [
      "[Parallel(n_jobs=-1)]: Using backend LokyBackend with 8 concurrent workers.\n",
      "[Parallel(n_jobs=-1)]: Done  16 tasks      | elapsed:  2.6min\n",
      "[Parallel(n_jobs=-1)]: Done 112 tasks      | elapsed: 23.2min\n",
      "[Parallel(n_jobs=-1)]: Done 175 out of 175 | elapsed: 42.4min finished\n",
      "/anaconda3/lib/python3.7/site-packages/xgboost/core.py:587: FutureWarning: Series.base is deprecated and will be removed in a future version\n",
      "  if getattr(data, 'base', None) is not None and \\\n"
     ]
    },
    {
     "data": {
      "text/plain": [
       "GridSearchCV(cv=5, error_score='raise-deprecating',\n",
       "             estimator=XGBRegressor(base_score=0.5, booster='gbtree',\n",
       "                                    colsample_bylevel=1,\n",
       "                                    colsample_bytree=0.4766, gamma=1.61,\n",
       "                                    importance_type='gain', learning_rate=0.1,\n",
       "                                    max_delta_step=0, max_depth=3,\n",
       "                                    min_child_weight=1, missing=None,\n",
       "                                    n_estimators=500, n_jobs=-1, nthread=None,\n",
       "                                    objective='reg:linear', random_state=310,\n",
       "                                    reg_alpha=0, reg_lambda=1,\n",
       "                                    scale_pos_weight=1, seed=None, silent=False,\n",
       "                                    subsample=0.9371),\n",
       "             iid='warn', n_jobs=-1,\n",
       "             param_grid={'max_depth': [3, 4, 5, 7, 8, 9, 10],\n",
       "                         'min_child_weight': [1, 3, 5, 7, 9]},\n",
       "             pre_dispatch='2*n_jobs', refit=True, return_train_score=False,\n",
       "             scoring=None, verbose=3)"
      ]
     },
     "execution_count": 342,
     "metadata": {},
     "output_type": "execute_result"
    }
   ],
   "source": [
    "grid.fit(X_train[keep_cols],y_train)"
   ]
  },
  {
   "cell_type": "code",
   "execution_count": 343,
   "metadata": {},
   "outputs": [
    {
     "data": {
      "text/plain": [
       "{'max_depth': 9, 'min_child_weight': 1}"
      ]
     },
     "execution_count": 343,
     "metadata": {},
     "output_type": "execute_result"
    }
   ],
   "source": [
    "grid.best_params_"
   ]
  },
  {
   "cell_type": "code",
   "execution_count": 344,
   "metadata": {},
   "outputs": [
    {
     "data": {
      "text/plain": [
       "0.9667406526570769"
      ]
     },
     "execution_count": 344,
     "metadata": {},
     "output_type": "execute_result"
    }
   ],
   "source": [
    "grid.best_estimator_.score(X_test[keep_cols], y_test)"
   ]
  },
  {
   "cell_type": "markdown",
   "metadata": {},
   "source": [
    "### Figure out how many columns to include\n",
    "#### Sort using SHAP values"
   ]
  },
  {
   "cell_type": "code",
   "execution_count": 346,
   "metadata": {},
   "outputs": [],
   "source": [
    "col_importance = list(map(lambda x: x[0], sorted(list(zip(X.columns,np.abs(shap_values).mean(axis=0))),\n",
    "                                key = lambda x: -x[1])))"
   ]
  },
  {
   "cell_type": "code",
   "execution_count": 349,
   "metadata": {},
   "outputs": [
    {
     "data": {
      "text/plain": [
       "2067"
      ]
     },
     "execution_count": 349,
     "metadata": {},
     "output_type": "execute_result"
    }
   ],
   "source": [
    "len(col_importance)"
   ]
  },
  {
   "cell_type": "code",
   "execution_count": 354,
   "metadata": {},
   "outputs": [],
   "source": [
    "n_cols = [10, 50, 200, 500, 1000, 2067]"
   ]
  },
  {
   "cell_type": "code",
   "execution_count": 355,
   "metadata": {
    "scrolled": true
   },
   "outputs": [
    {
     "name": "stdout",
     "output_type": "stream",
     "text": [
      "n_cols: 10\n",
      "Fit to XGBoost\n",
      "Score model\n",
      "Save parameters\n",
      "n_cols: 50\n",
      "Fit to XGBoost\n"
     ]
    },
    {
     "name": "stderr",
     "output_type": "stream",
     "text": [
      "/anaconda3/lib/python3.7/site-packages/xgboost/core.py:587: FutureWarning: Series.base is deprecated and will be removed in a future version\n",
      "  if getattr(data, 'base', None) is not None and \\\n"
     ]
    },
    {
     "name": "stdout",
     "output_type": "stream",
     "text": [
      "Score model\n",
      "Save parameters\n",
      "n_cols: 200\n",
      "Fit to XGBoost\n"
     ]
    },
    {
     "name": "stderr",
     "output_type": "stream",
     "text": [
      "/anaconda3/lib/python3.7/site-packages/xgboost/core.py:587: FutureWarning: Series.base is deprecated and will be removed in a future version\n",
      "  if getattr(data, 'base', None) is not None and \\\n"
     ]
    },
    {
     "name": "stdout",
     "output_type": "stream",
     "text": [
      "Score model\n",
      "Save parameters\n",
      "n_cols: 500\n",
      "Fit to XGBoost\n"
     ]
    },
    {
     "name": "stderr",
     "output_type": "stream",
     "text": [
      "/anaconda3/lib/python3.7/site-packages/xgboost/core.py:587: FutureWarning: Series.base is deprecated and will be removed in a future version\n",
      "  if getattr(data, 'base', None) is not None and \\\n"
     ]
    },
    {
     "name": "stdout",
     "output_type": "stream",
     "text": [
      "Score model\n",
      "Save parameters\n",
      "n_cols: 1000\n",
      "Fit to XGBoost\n"
     ]
    },
    {
     "name": "stderr",
     "output_type": "stream",
     "text": [
      "/anaconda3/lib/python3.7/site-packages/xgboost/core.py:587: FutureWarning: Series.base is deprecated and will be removed in a future version\n",
      "  if getattr(data, 'base', None) is not None and \\\n"
     ]
    },
    {
     "name": "stdout",
     "output_type": "stream",
     "text": [
      "Score model\n",
      "Save parameters\n",
      "n_cols: 2067\n",
      "Fit to XGBoost\n"
     ]
    },
    {
     "name": "stderr",
     "output_type": "stream",
     "text": [
      "/anaconda3/lib/python3.7/site-packages/xgboost/core.py:587: FutureWarning: Series.base is deprecated and will be removed in a future version\n",
      "  if getattr(data, 'base', None) is not None and \\\n"
     ]
    },
    {
     "name": "stdout",
     "output_type": "stream",
     "text": [
      "Score model\n",
      "Save parameters\n"
     ]
    }
   ],
   "source": [
    "settings = []\n",
    "for col in n_cols:\n",
    "    print(f'n_cols: {col}')\n",
    "    cols = col_importance[:col]\n",
    "    reg_col = XGBRegressor(n_estimators=500, random_state=310, n_jobs=-1, silent=False,\n",
    "                     colsample_bytree=0.4766, gamma=1.61, subsample=0.9371)\n",
    "    print(f'Fit to XGBoost')\n",
    "    reg_col.fit(X_train[cols], y_train)\n",
    "    print(f'Score model')\n",
    "    score = reg_col.score(X_test[cols], y_test)\n",
    "    these_params = {'n_cols':col, 'score':score}\n",
    "    print(f'Save parameters')\n",
    "    settings.append(these_params)"
   ]
  },
  {
   "cell_type": "code",
   "execution_count": 360,
   "metadata": {},
   "outputs": [],
   "source": [
    "num_cols = pd.DataFrame(settings).sort_values('score', ascending = False).iloc[0,0]"
   ]
  },
  {
   "cell_type": "code",
   "execution_count": 361,
   "metadata": {},
   "outputs": [],
   "source": [
    "keep_cols = col_importance[:num_cols]"
   ]
  },
  {
   "cell_type": "markdown",
   "metadata": {},
   "source": [
    "### Run Bayesian Optimization again to find L1 regularization"
   ]
  },
  {
   "cell_type": "code",
   "execution_count": 368,
   "metadata": {},
   "outputs": [
    {
     "name": "stderr",
     "output_type": "stream",
     "text": [
      "/anaconda3/lib/python3.7/site-packages/xgboost/core.py:587: FutureWarning: Series.base is deprecated and will be removed in a future version\n",
      "  if getattr(data, 'base', None) is not None and \\\n"
     ]
    }
   ],
   "source": [
    "dtrain = xgb.DMatrix(X_train[keep_cols], label = y_train)"
   ]
  },
  {
   "cell_type": "code",
   "execution_count": 369,
   "metadata": {},
   "outputs": [],
   "source": [
    "def objective_alpha(alpha):\n",
    "    params = {\n",
    "        'eval_metric':'rmse',\n",
    "        'min_child_weight': 1,\n",
    "        'gamma': 1.61,\n",
    "        'subsample': 0.9371,\n",
    "        'colsample_bytree': 0.4766,\n",
    "        'max_depth': 9,\n",
    "        'alpha':alpha,\n",
    "        'eta':0.1,\n",
    "        'nthread':4\n",
    "    }\n",
    "    \n",
    "    xmodelcv = xgb.cv(params = params, dtrain = dtrain, nfold = folds, num_boost_round=100,\n",
    "                      early_stopping_rounds=10,\n",
    "                      seed = 42\n",
    "                     )\n",
    "    \n",
    "    best_score = -xmodelcv['test-rmse-mean'].iloc[-1]\n",
    "    \n",
    "    return best_score"
   ]
  },
  {
   "cell_type": "code",
   "execution_count": 370,
   "metadata": {},
   "outputs": [],
   "source": [
    "pbounds_alpha = {'alpha':(1e-05,10)}"
   ]
  },
  {
   "cell_type": "code",
   "execution_count": 371,
   "metadata": {},
   "outputs": [],
   "source": [
    "optimizer_alpha = BayesianOptimization(objective_alpha, pbounds_alpha, random_state = 42, verbose = 3)"
   ]
  },
  {
   "cell_type": "code",
   "execution_count": 372,
   "metadata": {},
   "outputs": [
    {
     "name": "stdout",
     "output_type": "stream",
     "text": [
      "|   iter    |  target   |   alpha   |\n",
      "-------------------------------------\n",
      "| \u001b[0m 1       \u001b[0m | \u001b[0m-1.848e+0\u001b[0m | \u001b[0m 3.745   \u001b[0m |\n",
      "| \u001b[0m 2       \u001b[0m | \u001b[0m-1.854e+0\u001b[0m | \u001b[0m 9.507   \u001b[0m |\n",
      "| \u001b[0m 3       \u001b[0m | \u001b[0m-1.854e+0\u001b[0m | \u001b[0m 7.32    \u001b[0m |\n",
      "| \u001b[0m 4       \u001b[0m | \u001b[0m-1.853e+0\u001b[0m | \u001b[0m 5.987   \u001b[0m |\n",
      "| \u001b[95m 5       \u001b[0m | \u001b[95m-1.847e+0\u001b[0m | \u001b[95m 1.56    \u001b[0m |\n",
      "| \u001b[0m 6       \u001b[0m | \u001b[0m-1.849e+0\u001b[0m | \u001b[0m 2.438   \u001b[0m |\n",
      "| \u001b[0m 7       \u001b[0m | \u001b[0m-1.849e+0\u001b[0m | \u001b[0m 1.118   \u001b[0m |\n",
      "| \u001b[0m 8       \u001b[0m | \u001b[0m-1.847e+0\u001b[0m | \u001b[0m 1.815   \u001b[0m |\n",
      "| \u001b[95m 9       \u001b[0m | \u001b[95m-1.845e+0\u001b[0m | \u001b[95m 1.662   \u001b[0m |\n",
      "| \u001b[0m 10      \u001b[0m | \u001b[0m-1.846e+0\u001b[0m | \u001b[0m 1.706   \u001b[0m |\n",
      "| \u001b[0m 11      \u001b[0m | \u001b[0m-1.846e+0\u001b[0m | \u001b[0m 1.676   \u001b[0m |\n",
      "| \u001b[95m 12      \u001b[0m | \u001b[95m-1.845e+0\u001b[0m | \u001b[95m 1.624   \u001b[0m |\n",
      "| \u001b[0m 13      \u001b[0m | \u001b[0m-1.846e+0\u001b[0m | \u001b[0m 1.746   \u001b[0m |\n",
      "| \u001b[0m 14      \u001b[0m | \u001b[0m-1.845e+0\u001b[0m | \u001b[0m 1.642   \u001b[0m |\n",
      "| \u001b[0m 15      \u001b[0m | \u001b[0m-1.847e+0\u001b[0m | \u001b[0m 1.603   \u001b[0m |\n",
      "=====================================\n"
     ]
    }
   ],
   "source": [
    "optimizer_alpha.maximize(n_iter=10)"
   ]
  },
  {
   "cell_type": "code",
   "execution_count": 379,
   "metadata": {},
   "outputs": [],
   "source": [
    "xgb_alpha = XGBRegressor(n_estimators=500, random_state=310, n_jobs=-1, silent=False,\n",
    "                     colsample_bytree=0.4766, gamma=1.61, subsample=0.9371, min_child_weight=1, max_depth=9,\n",
    "                         reg_alpha=1.624)"
   ]
  },
  {
   "cell_type": "code",
   "execution_count": 380,
   "metadata": {},
   "outputs": [
    {
     "name": "stderr",
     "output_type": "stream",
     "text": [
      "/anaconda3/lib/python3.7/site-packages/xgboost/core.py:587: FutureWarning: Series.base is deprecated and will be removed in a future version\n",
      "  if getattr(data, 'base', None) is not None and \\\n"
     ]
    },
    {
     "data": {
      "text/plain": [
       "XGBRegressor(base_score=0.5, booster='gbtree', colsample_bylevel=1,\n",
       "             colsample_bytree=0.4766, gamma=1.61, importance_type='gain',\n",
       "             learning_rate=0.1, max_delta_step=0, max_depth=9,\n",
       "             min_child_weight=1, missing=None, n_estimators=500, n_jobs=-1,\n",
       "             nthread=None, objective='reg:linear', random_state=310,\n",
       "             reg_alpha=1.624, reg_lambda=1, scale_pos_weight=1, seed=None,\n",
       "             silent=False, subsample=0.9371)"
      ]
     },
     "execution_count": 380,
     "metadata": {},
     "output_type": "execute_result"
    }
   ],
   "source": [
    "xgb_alpha.fit(X_train[keep_cols], y_train)"
   ]
  },
  {
   "cell_type": "code",
   "execution_count": 381,
   "metadata": {},
   "outputs": [
    {
     "data": {
      "text/plain": [
       "0.9714093329344152"
      ]
     },
     "execution_count": 381,
     "metadata": {},
     "output_type": "execute_result"
    }
   ],
   "source": [
    "xgb_alpha.score(X_test[keep_cols], y_test)"
   ]
  },
  {
   "cell_type": "code",
   "execution_count": 382,
   "metadata": {},
   "outputs": [],
   "source": [
    "xgb_no_alpha = XGBRegressor(n_estimators=500, random_state=310, n_jobs=-1, silent=False,\n",
    "                     colsample_bytree=0.4766, gamma=1.61, subsample=0.9371, min_child_weight=1, max_depth=9,\n",
    "                         reg_alpha=0)"
   ]
  },
  {
   "cell_type": "code",
   "execution_count": 383,
   "metadata": {
    "scrolled": true
   },
   "outputs": [
    {
     "name": "stderr",
     "output_type": "stream",
     "text": [
      "/anaconda3/lib/python3.7/site-packages/xgboost/core.py:587: FutureWarning: Series.base is deprecated and will be removed in a future version\n",
      "  if getattr(data, 'base', None) is not None and \\\n"
     ]
    },
    {
     "data": {
      "text/plain": [
       "XGBRegressor(base_score=0.5, booster='gbtree', colsample_bylevel=1,\n",
       "             colsample_bytree=0.4766, gamma=1.61, importance_type='gain',\n",
       "             learning_rate=0.1, max_delta_step=0, max_depth=9,\n",
       "             min_child_weight=1, missing=None, n_estimators=500, n_jobs=-1,\n",
       "             nthread=None, objective='reg:linear', random_state=310,\n",
       "             reg_alpha=0, reg_lambda=1, scale_pos_weight=1, seed=None,\n",
       "             silent=False, subsample=0.9371)"
      ]
     },
     "execution_count": 383,
     "metadata": {},
     "output_type": "execute_result"
    }
   ],
   "source": [
    "xgb_no_alpha.fit(X_train[keep_cols],y_train)"
   ]
  },
  {
   "cell_type": "code",
   "execution_count": 384,
   "metadata": {},
   "outputs": [
    {
     "data": {
      "text/plain": [
       "0.9711390082614837"
      ]
     },
     "execution_count": 384,
     "metadata": {},
     "output_type": "execute_result"
    }
   ],
   "source": [
    "xgb_no_alpha.score(X_test[keep_cols], y_test)"
   ]
  },
  {
   "cell_type": "markdown",
   "metadata": {},
   "source": [
    "### ... and again to find L2 regularization"
   ]
  },
  {
   "cell_type": "code",
   "execution_count": 391,
   "metadata": {},
   "outputs": [],
   "source": [
    "pbounds_lambda = {'lamb':(1e-05,10)}"
   ]
  },
  {
   "cell_type": "code",
   "execution_count": 392,
   "metadata": {},
   "outputs": [],
   "source": [
    "def objective_lambda(lamb):\n",
    "    params = {\n",
    "        'eval_metric':'rmse',\n",
    "        'min_child_weight': 1,\n",
    "        'gamma': 1.61,\n",
    "        'subsample': 0.9371,\n",
    "        'colsample_bytree': 0.4766,\n",
    "        'max_depth': 9,\n",
    "        'alpha':1.624,\n",
    "        'eta':0.1,\n",
    "        'nthread':4,\n",
    "        'lambda':lamb\n",
    "    }\n",
    "    \n",
    "    xmodelcv = xgb.cv(params = params, dtrain = dtrain, nfold = folds, num_boost_round=100,\n",
    "                      early_stopping_rounds=10,\n",
    "                      seed = 42\n",
    "                     )\n",
    "    \n",
    "    best_score = -xmodelcv['test-rmse-mean'].iloc[-1]\n",
    "    \n",
    "    return best_score"
   ]
  },
  {
   "cell_type": "code",
   "execution_count": 393,
   "metadata": {},
   "outputs": [],
   "source": [
    "optimizer_lambda = BayesianOptimization(objective_lambda, pbounds_lambda, random_state = 42, verbose = 3)"
   ]
  },
  {
   "cell_type": "code",
   "execution_count": 395,
   "metadata": {},
   "outputs": [
    {
     "name": "stdout",
     "output_type": "stream",
     "text": [
      "|   iter    |  target   |   lamb    |\n",
      "-------------------------------------\n",
      "| \u001b[0m 1       \u001b[0m | \u001b[0m-2.022e+0\u001b[0m | \u001b[0m 9.507   \u001b[0m |\n",
      "| \u001b[95m 2       \u001b[0m | \u001b[95m-2.001e+0\u001b[0m | \u001b[95m 7.32    \u001b[0m |\n",
      "| \u001b[95m 3       \u001b[0m | \u001b[95m-1.973e+0\u001b[0m | \u001b[95m 5.987   \u001b[0m |\n",
      "| \u001b[95m 4       \u001b[0m | \u001b[95m-1.869e+0\u001b[0m | \u001b[95m 1.56    \u001b[0m |\n",
      "| \u001b[95m 5       \u001b[0m | \u001b[95m-1.868e+0\u001b[0m | \u001b[95m 1.56    \u001b[0m |\n",
      "| \u001b[95m 6       \u001b[0m | \u001b[95m-1.835e+0\u001b[0m | \u001b[95m 0.5808  \u001b[0m |\n",
      "| \u001b[0m 7       \u001b[0m | \u001b[0m-2.012e+0\u001b[0m | \u001b[0m 8.662   \u001b[0m |\n",
      "| \u001b[0m 8       \u001b[0m | \u001b[0m-1.98e+03\u001b[0m | \u001b[0m 6.011   \u001b[0m |\n",
      "| \u001b[0m 9       \u001b[0m | \u001b[0m-1.995e+0\u001b[0m | \u001b[0m 7.081   \u001b[0m |\n",
      "| \u001b[95m 10      \u001b[0m | \u001b[95m-1.832e+0\u001b[0m | \u001b[95m 0.5809  \u001b[0m |\n",
      "| \u001b[0m 11      \u001b[0m | \u001b[0m-1.832e+0\u001b[0m | \u001b[0m 0.581   \u001b[0m |\n",
      "| \u001b[0m 12      \u001b[0m | \u001b[0m-1.832e+0\u001b[0m | \u001b[0m 0.5809  \u001b[0m |\n",
      "| \u001b[95m 13      \u001b[0m | \u001b[95m-1.832e+0\u001b[0m | \u001b[95m 0.5809  \u001b[0m |\n",
      "| \u001b[0m 14      \u001b[0m | \u001b[0m-1.868e+0\u001b[0m | \u001b[0m 1.56    \u001b[0m |\n",
      "| \u001b[0m 15      \u001b[0m | \u001b[0m-1.832e+0\u001b[0m | \u001b[0m 0.581   \u001b[0m |\n",
      "| \u001b[0m 16      \u001b[0m | \u001b[0m-1.835e+0\u001b[0m | \u001b[0m 0.5809  \u001b[0m |\n",
      "| \u001b[0m 17      \u001b[0m | \u001b[0m-1.832e+0\u001b[0m | \u001b[0m 0.5809  \u001b[0m |\n",
      "| \u001b[0m 18      \u001b[0m | \u001b[0m-1.832e+0\u001b[0m | \u001b[0m 0.5809  \u001b[0m |\n",
      "| \u001b[0m 19      \u001b[0m | \u001b[0m-1.834e+0\u001b[0m | \u001b[0m 0.581   \u001b[0m |\n",
      "=====================================\n"
     ]
    }
   ],
   "source": [
    "optimizer_lambda.maximize(n_iter=10)"
   ]
  },
  {
   "cell_type": "code",
   "execution_count": 399,
   "metadata": {},
   "outputs": [
    {
     "data": {
      "text/plain": [
       "array([-2021.5298828, -2000.572534 , -1973.3593018, -1868.5729248,\n",
       "       -1868.1587402, -1835.2709962, -2011.8776368, -1979.6970948,\n",
       "       -1994.7603758, -1832.2723146, -1832.273926 , -1832.2729492,\n",
       "       -1831.557373 , -1868.1585694, -1832.2894532, -1834.556128 ,\n",
       "       -1832.271167 , -1832.2731446, -1833.6808838])"
      ]
     },
     "execution_count": 399,
     "metadata": {},
     "output_type": "execute_result"
    }
   ],
   "source": [
    "optimizer_lambda.space.target"
   ]
  },
  {
   "cell_type": "code",
   "execution_count": 409,
   "metadata": {},
   "outputs": [],
   "source": [
    "max_lamb = optimizer_lambda.max['params']['lamb']"
   ]
  },
  {
   "cell_type": "code",
   "execution_count": 410,
   "metadata": {},
   "outputs": [],
   "source": [
    "xgb_lambda = XGBRegressor(n_estimators=500, random_state=310, n_jobs=-1, silent=False,\n",
    "                     colsample_bytree=0.4766, gamma=1.61, subsample=0.9371, min_child_weight=1, max_depth=9,\n",
    "                         reg_alpha=1.624, reg_lambda = max_lamb)"
   ]
  },
  {
   "cell_type": "code",
   "execution_count": 411,
   "metadata": {},
   "outputs": [
    {
     "name": "stderr",
     "output_type": "stream",
     "text": [
      "/anaconda3/lib/python3.7/site-packages/xgboost/core.py:587: FutureWarning: Series.base is deprecated and will be removed in a future version\n",
      "  if getattr(data, 'base', None) is not None and \\\n"
     ]
    },
    {
     "data": {
      "text/plain": [
       "XGBRegressor(base_score=0.5, booster='gbtree', colsample_bylevel=1,\n",
       "             colsample_bytree=0.4766, gamma=1.61, importance_type='gain',\n",
       "             learning_rate=0.1, max_delta_step=0, max_depth=9,\n",
       "             min_child_weight=1, missing=None, n_estimators=500, n_jobs=-1,\n",
       "             nthread=None, objective='reg:linear', random_state=310,\n",
       "             reg_alpha=1.624, reg_lambda=0.5809073944978933, scale_pos_weight=1,\n",
       "             seed=None, silent=False, subsample=0.9371)"
      ]
     },
     "execution_count": 411,
     "metadata": {},
     "output_type": "execute_result"
    }
   ],
   "source": [
    "xgb_lambda.fit(X_train[keep_cols], y_train)"
   ]
  },
  {
   "cell_type": "code",
   "execution_count": 412,
   "metadata": {},
   "outputs": [
    {
     "data": {
      "text/plain": [
       "0.9713642311617919"
      ]
     },
     "execution_count": 412,
     "metadata": {},
     "output_type": "execute_result"
    }
   ],
   "source": [
    "xgb_lambda.score(X_test[keep_cols], y_test)"
   ]
  },
  {
   "cell_type": "code",
   "execution_count": 413,
   "metadata": {},
   "outputs": [],
   "source": [
    "xgb_no_lambda = XGBRegressor(n_estimators=500, random_state=310, n_jobs=-1, silent=False,\n",
    "                     colsample_bytree=0.4766, gamma=1.61, subsample=0.9371, min_child_weight=1, max_depth=9,\n",
    "                         reg_alpha=1.624, reg_lambda = 1)"
   ]
  },
  {
   "cell_type": "code",
   "execution_count": 415,
   "metadata": {},
   "outputs": [
    {
     "data": {
      "text/plain": [
       "XGBRegressor(base_score=0.5, booster='gbtree', colsample_bylevel=1,\n",
       "             colsample_bytree=0.4766, gamma=1.61, importance_type='gain',\n",
       "             learning_rate=0.1, max_delta_step=0, max_depth=9,\n",
       "             min_child_weight=1, missing=None, n_estimators=500, n_jobs=-1,\n",
       "             nthread=None, objective='reg:linear', random_state=310,\n",
       "             reg_alpha=1.624, reg_lambda=1, scale_pos_weight=1, seed=None,\n",
       "             silent=False, subsample=0.9371)"
      ]
     },
     "execution_count": 415,
     "metadata": {},
     "output_type": "execute_result"
    }
   ],
   "source": [
    "xgb_no_lambda.fit(X_train[keep_cols], y_train)"
   ]
  },
  {
   "cell_type": "code",
   "execution_count": 416,
   "metadata": {},
   "outputs": [
    {
     "data": {
      "text/plain": [
       "0.9714093329344152"
      ]
     },
     "execution_count": 416,
     "metadata": {},
     "output_type": "execute_result"
    }
   ],
   "source": [
    "xgb_no_lambda.score(X_test[keep_cols], y_test)"
   ]
  },
  {
   "cell_type": "markdown",
   "metadata": {},
   "source": [
    "### Find optimal number of components"
   ]
  },
  {
   "cell_type": "code",
   "execution_count": 417,
   "metadata": {},
   "outputs": [],
   "source": [
    "no_components = [10, 50, 100, 250, 750, 1000]"
   ]
  },
  {
   "cell_type": "code",
   "execution_count": 418,
   "metadata": {},
   "outputs": [
    {
     "name": "stdout",
     "output_type": "stream",
     "text": [
      "no_components: 10\n",
      "Define model\n",
      "Fit to XGBoost\n"
     ]
    },
    {
     "name": "stderr",
     "output_type": "stream",
     "text": [
      "/anaconda3/lib/python3.7/site-packages/xgboost/core.py:587: FutureWarning: Series.base is deprecated and will be removed in a future version\n",
      "  if getattr(data, 'base', None) is not None and \\\n"
     ]
    },
    {
     "name": "stdout",
     "output_type": "stream",
     "text": [
      "Score model\n",
      "Save parameters\n",
      "no_components: 50\n",
      "Define model\n",
      "Fit to XGBoost\n"
     ]
    },
    {
     "name": "stderr",
     "output_type": "stream",
     "text": [
      "/anaconda3/lib/python3.7/site-packages/xgboost/core.py:587: FutureWarning: Series.base is deprecated and will be removed in a future version\n",
      "  if getattr(data, 'base', None) is not None and \\\n"
     ]
    },
    {
     "name": "stdout",
     "output_type": "stream",
     "text": [
      "Score model\n",
      "Save parameters\n",
      "no_components: 100\n",
      "Define model\n",
      "Fit to XGBoost\n"
     ]
    },
    {
     "name": "stderr",
     "output_type": "stream",
     "text": [
      "/anaconda3/lib/python3.7/site-packages/xgboost/core.py:587: FutureWarning: Series.base is deprecated and will be removed in a future version\n",
      "  if getattr(data, 'base', None) is not None and \\\n"
     ]
    },
    {
     "name": "stdout",
     "output_type": "stream",
     "text": [
      "Score model\n",
      "Save parameters\n",
      "no_components: 250\n",
      "Define model\n",
      "Fit to XGBoost\n"
     ]
    },
    {
     "name": "stderr",
     "output_type": "stream",
     "text": [
      "/anaconda3/lib/python3.7/site-packages/xgboost/core.py:587: FutureWarning: Series.base is deprecated and will be removed in a future version\n",
      "  if getattr(data, 'base', None) is not None and \\\n"
     ]
    },
    {
     "name": "stdout",
     "output_type": "stream",
     "text": [
      "Score model\n",
      "Save parameters\n",
      "no_components: 500\n",
      "Define model\n",
      "Fit to XGBoost\n"
     ]
    },
    {
     "name": "stderr",
     "output_type": "stream",
     "text": [
      "/anaconda3/lib/python3.7/site-packages/xgboost/core.py:587: FutureWarning: Series.base is deprecated and will be removed in a future version\n",
      "  if getattr(data, 'base', None) is not None and \\\n"
     ]
    },
    {
     "name": "stdout",
     "output_type": "stream",
     "text": [
      "Score model\n",
      "Save parameters\n",
      "no_components: 1000\n",
      "Define model\n",
      "Fit to XGBoost\n"
     ]
    },
    {
     "name": "stderr",
     "output_type": "stream",
     "text": [
      "/anaconda3/lib/python3.7/site-packages/xgboost/core.py:587: FutureWarning: Series.base is deprecated and will be removed in a future version\n",
      "  if getattr(data, 'base', None) is not None and \\\n"
     ]
    },
    {
     "name": "stdout",
     "output_type": "stream",
     "text": [
      "Score model\n",
      "Save parameters\n"
     ]
    }
   ],
   "source": [
    "settings_comp = []\n",
    "for comp in no_components:\n",
    "    print(f'no_components: {comp}')\n",
    "    print(f'Define model')\n",
    "    xgb_comp = XGBRegressor(n_estimators=comp, random_state=310, n_jobs=-1, silent=False,\n",
    "                     colsample_bytree=0.4766, gamma=1.61, subsample=0.9371, min_child_weight=1, max_depth=9,\n",
    "                         reg_alpha=1.624, reg_lambda = 1)\n",
    "    print(f'Fit to XGBoost')\n",
    "    xgb_comp.fit(X_train[keep_cols], y_train)\n",
    "    print(f'Score model')\n",
    "    score = xgb_comp.score(X_test[keep_cols], y_test)\n",
    "    these_params = {'no_components':comp, 'score':score}\n",
    "    print(f'Save parameters')\n",
    "    settings_comp.append(these_params)"
   ]
  },
  {
   "cell_type": "code",
   "execution_count": 419,
   "metadata": {},
   "outputs": [
    {
     "data": {
      "text/html": [
       "<div>\n",
       "<style scoped>\n",
       "    .dataframe tbody tr th:only-of-type {\n",
       "        vertical-align: middle;\n",
       "    }\n",
       "\n",
       "    .dataframe tbody tr th {\n",
       "        vertical-align: top;\n",
       "    }\n",
       "\n",
       "    .dataframe thead th {\n",
       "        text-align: right;\n",
       "    }\n",
       "</style>\n",
       "<table border=\"1\" class=\"dataframe\">\n",
       "  <thead>\n",
       "    <tr style=\"text-align: right;\">\n",
       "      <th></th>\n",
       "      <th>no_components</th>\n",
       "      <th>score</th>\n",
       "    </tr>\n",
       "  </thead>\n",
       "  <tbody>\n",
       "    <tr>\n",
       "      <th>0</th>\n",
       "      <td>10</td>\n",
       "      <td>0.046979</td>\n",
       "    </tr>\n",
       "    <tr>\n",
       "      <th>1</th>\n",
       "      <td>50</td>\n",
       "      <td>0.945525</td>\n",
       "    </tr>\n",
       "    <tr>\n",
       "      <th>2</th>\n",
       "      <td>100</td>\n",
       "      <td>0.957037</td>\n",
       "    </tr>\n",
       "    <tr>\n",
       "      <th>3</th>\n",
       "      <td>250</td>\n",
       "      <td>0.967341</td>\n",
       "    </tr>\n",
       "    <tr>\n",
       "      <th>4</th>\n",
       "      <td>500</td>\n",
       "      <td>0.971409</td>\n",
       "    </tr>\n",
       "    <tr>\n",
       "      <th>5</th>\n",
       "      <td>1000</td>\n",
       "      <td>0.973320</td>\n",
       "    </tr>\n",
       "  </tbody>\n",
       "</table>\n",
       "</div>"
      ],
      "text/plain": [
       "   no_components     score\n",
       "0             10  0.046979\n",
       "1             50  0.945525\n",
       "2            100  0.957037\n",
       "3            250  0.967341\n",
       "4            500  0.971409\n",
       "5           1000  0.973320"
      ]
     },
     "execution_count": 419,
     "metadata": {},
     "output_type": "execute_result"
    }
   ],
   "source": [
    "pd.DataFrame(settings_comp)"
   ]
  },
  {
   "cell_type": "code",
   "execution_count": 420,
   "metadata": {},
   "outputs": [],
   "source": [
    "xgb_final = XGBRegressor(n_estimators=1000, random_state=310, n_jobs=-1, silent=False,\n",
    "                     colsample_bytree=0.4766, gamma=1.61, subsample=0.9371, min_child_weight=1, max_depth=9,\n",
    "                         reg_alpha=1.624, reg_lambda = 1)"
   ]
  },
  {
   "cell_type": "code",
   "execution_count": 421,
   "metadata": {},
   "outputs": [
    {
     "name": "stderr",
     "output_type": "stream",
     "text": [
      "/anaconda3/lib/python3.7/site-packages/xgboost/core.py:587: FutureWarning: Series.base is deprecated and will be removed in a future version\n",
      "  if getattr(data, 'base', None) is not None and \\\n"
     ]
    },
    {
     "data": {
      "text/plain": [
       "XGBRegressor(base_score=0.5, booster='gbtree', colsample_bylevel=1,\n",
       "             colsample_bytree=0.4766, gamma=1.61, importance_type='gain',\n",
       "             learning_rate=0.1, max_delta_step=0, max_depth=9,\n",
       "             min_child_weight=1, missing=None, n_estimators=1000, n_jobs=-1,\n",
       "             nthread=None, objective='reg:linear', random_state=310,\n",
       "             reg_alpha=1.624, reg_lambda=1, scale_pos_weight=1, seed=None,\n",
       "             silent=False, subsample=0.9371)"
      ]
     },
     "execution_count": 421,
     "metadata": {},
     "output_type": "execute_result"
    }
   ],
   "source": [
    "xgb_final.fit(X_train[keep_cols], y_train)"
   ]
  },
  {
   "cell_type": "code",
   "execution_count": 422,
   "metadata": {},
   "outputs": [
    {
     "data": {
      "text/plain": [
       "0.9733203536677457"
      ]
     },
     "execution_count": 422,
     "metadata": {},
     "output_type": "execute_result"
    }
   ],
   "source": [
    "xgb_final.score(X_test[keep_cols], y_test)"
   ]
  },
  {
   "cell_type": "code",
   "execution_count": 423,
   "metadata": {
    "scrolled": true
   },
   "outputs": [
    {
     "data": {
      "text/plain": [
       "0.9678931372760962"
      ]
     },
     "execution_count": 423,
     "metadata": {},
     "output_type": "execute_result"
    }
   ],
   "source": [
    "xgb_final.score(X_valid[keep_cols], y_valid)"
   ]
  }
 ],
 "metadata": {
  "kernelspec": {
   "display_name": "Python 3",
   "language": "python",
   "name": "python3"
  },
  "language_info": {
   "codemirror_mode": {
    "name": "ipython",
    "version": 3
   },
   "file_extension": ".py",
   "mimetype": "text/x-python",
   "name": "python",
   "nbconvert_exporter": "python",
   "pygments_lexer": "ipython3",
   "version": "3.7.3"
  }
 },
 "nbformat": 4,
 "nbformat_minor": 2
}
